{
 "cells": [
  {
   "cell_type": "code",
   "execution_count": 1,
   "id": "081c4ca5",
   "metadata": {},
   "outputs": [],
   "source": [
    "import pandas as pd\n",
    "import numpy as np\n",
    "import seaborn as sns\n",
    "import matplotlib.pyplot as plt\n",
    "from sklearn.model_selection import train_test_split\n",
    "from sklearn.preprocessing import StandardScaler"
   ]
  },
  {
   "cell_type": "code",
   "execution_count": 2,
   "id": "79788032",
   "metadata": {},
   "outputs": [
    {
     "data": {
      "text/html": [
       "<div>\n",
       "<style scoped>\n",
       "    .dataframe tbody tr th:only-of-type {\n",
       "        vertical-align: middle;\n",
       "    }\n",
       "\n",
       "    .dataframe tbody tr th {\n",
       "        vertical-align: top;\n",
       "    }\n",
       "\n",
       "    .dataframe thead th {\n",
       "        text-align: right;\n",
       "    }\n",
       "</style>\n",
       "<table border=\"1\" class=\"dataframe\">\n",
       "  <thead>\n",
       "    <tr style=\"text-align: right;\">\n",
       "      <th></th>\n",
       "      <th>Time</th>\n",
       "      <th>V1</th>\n",
       "      <th>V2</th>\n",
       "      <th>V3</th>\n",
       "      <th>V4</th>\n",
       "      <th>V5</th>\n",
       "      <th>V6</th>\n",
       "      <th>V7</th>\n",
       "      <th>V8</th>\n",
       "      <th>V9</th>\n",
       "      <th>...</th>\n",
       "      <th>V21</th>\n",
       "      <th>V22</th>\n",
       "      <th>V23</th>\n",
       "      <th>V24</th>\n",
       "      <th>V25</th>\n",
       "      <th>V26</th>\n",
       "      <th>V27</th>\n",
       "      <th>V28</th>\n",
       "      <th>Amount</th>\n",
       "      <th>Class</th>\n",
       "    </tr>\n",
       "  </thead>\n",
       "  <tbody>\n",
       "    <tr>\n",
       "      <th>0</th>\n",
       "      <td>0.0</td>\n",
       "      <td>-1.359807</td>\n",
       "      <td>-0.072781</td>\n",
       "      <td>2.536347</td>\n",
       "      <td>1.378155</td>\n",
       "      <td>-0.338321</td>\n",
       "      <td>0.462388</td>\n",
       "      <td>0.239599</td>\n",
       "      <td>0.098698</td>\n",
       "      <td>0.363787</td>\n",
       "      <td>...</td>\n",
       "      <td>-0.018307</td>\n",
       "      <td>0.277838</td>\n",
       "      <td>-0.110474</td>\n",
       "      <td>0.066928</td>\n",
       "      <td>0.128539</td>\n",
       "      <td>-0.189115</td>\n",
       "      <td>0.133558</td>\n",
       "      <td>-0.021053</td>\n",
       "      <td>149.62</td>\n",
       "      <td>0</td>\n",
       "    </tr>\n",
       "    <tr>\n",
       "      <th>1</th>\n",
       "      <td>0.0</td>\n",
       "      <td>1.191857</td>\n",
       "      <td>0.266151</td>\n",
       "      <td>0.166480</td>\n",
       "      <td>0.448154</td>\n",
       "      <td>0.060018</td>\n",
       "      <td>-0.082361</td>\n",
       "      <td>-0.078803</td>\n",
       "      <td>0.085102</td>\n",
       "      <td>-0.255425</td>\n",
       "      <td>...</td>\n",
       "      <td>-0.225775</td>\n",
       "      <td>-0.638672</td>\n",
       "      <td>0.101288</td>\n",
       "      <td>-0.339846</td>\n",
       "      <td>0.167170</td>\n",
       "      <td>0.125895</td>\n",
       "      <td>-0.008983</td>\n",
       "      <td>0.014724</td>\n",
       "      <td>2.69</td>\n",
       "      <td>0</td>\n",
       "    </tr>\n",
       "    <tr>\n",
       "      <th>2</th>\n",
       "      <td>1.0</td>\n",
       "      <td>-1.358354</td>\n",
       "      <td>-1.340163</td>\n",
       "      <td>1.773209</td>\n",
       "      <td>0.379780</td>\n",
       "      <td>-0.503198</td>\n",
       "      <td>1.800499</td>\n",
       "      <td>0.791461</td>\n",
       "      <td>0.247676</td>\n",
       "      <td>-1.514654</td>\n",
       "      <td>...</td>\n",
       "      <td>0.247998</td>\n",
       "      <td>0.771679</td>\n",
       "      <td>0.909412</td>\n",
       "      <td>-0.689281</td>\n",
       "      <td>-0.327642</td>\n",
       "      <td>-0.139097</td>\n",
       "      <td>-0.055353</td>\n",
       "      <td>-0.059752</td>\n",
       "      <td>378.66</td>\n",
       "      <td>0</td>\n",
       "    </tr>\n",
       "    <tr>\n",
       "      <th>3</th>\n",
       "      <td>1.0</td>\n",
       "      <td>-0.966272</td>\n",
       "      <td>-0.185226</td>\n",
       "      <td>1.792993</td>\n",
       "      <td>-0.863291</td>\n",
       "      <td>-0.010309</td>\n",
       "      <td>1.247203</td>\n",
       "      <td>0.237609</td>\n",
       "      <td>0.377436</td>\n",
       "      <td>-1.387024</td>\n",
       "      <td>...</td>\n",
       "      <td>-0.108300</td>\n",
       "      <td>0.005274</td>\n",
       "      <td>-0.190321</td>\n",
       "      <td>-1.175575</td>\n",
       "      <td>0.647376</td>\n",
       "      <td>-0.221929</td>\n",
       "      <td>0.062723</td>\n",
       "      <td>0.061458</td>\n",
       "      <td>123.50</td>\n",
       "      <td>0</td>\n",
       "    </tr>\n",
       "    <tr>\n",
       "      <th>4</th>\n",
       "      <td>2.0</td>\n",
       "      <td>-1.158233</td>\n",
       "      <td>0.877737</td>\n",
       "      <td>1.548718</td>\n",
       "      <td>0.403034</td>\n",
       "      <td>-0.407193</td>\n",
       "      <td>0.095921</td>\n",
       "      <td>0.592941</td>\n",
       "      <td>-0.270533</td>\n",
       "      <td>0.817739</td>\n",
       "      <td>...</td>\n",
       "      <td>-0.009431</td>\n",
       "      <td>0.798278</td>\n",
       "      <td>-0.137458</td>\n",
       "      <td>0.141267</td>\n",
       "      <td>-0.206010</td>\n",
       "      <td>0.502292</td>\n",
       "      <td>0.219422</td>\n",
       "      <td>0.215153</td>\n",
       "      <td>69.99</td>\n",
       "      <td>0</td>\n",
       "    </tr>\n",
       "  </tbody>\n",
       "</table>\n",
       "<p>5 rows × 31 columns</p>\n",
       "</div>"
      ],
      "text/plain": [
       "   Time        V1        V2        V3        V4        V5        V6        V7   \n",
       "0   0.0 -1.359807 -0.072781  2.536347  1.378155 -0.338321  0.462388  0.239599  \\\n",
       "1   0.0  1.191857  0.266151  0.166480  0.448154  0.060018 -0.082361 -0.078803   \n",
       "2   1.0 -1.358354 -1.340163  1.773209  0.379780 -0.503198  1.800499  0.791461   \n",
       "3   1.0 -0.966272 -0.185226  1.792993 -0.863291 -0.010309  1.247203  0.237609   \n",
       "4   2.0 -1.158233  0.877737  1.548718  0.403034 -0.407193  0.095921  0.592941   \n",
       "\n",
       "         V8        V9  ...       V21       V22       V23       V24       V25   \n",
       "0  0.098698  0.363787  ... -0.018307  0.277838 -0.110474  0.066928  0.128539  \\\n",
       "1  0.085102 -0.255425  ... -0.225775 -0.638672  0.101288 -0.339846  0.167170   \n",
       "2  0.247676 -1.514654  ...  0.247998  0.771679  0.909412 -0.689281 -0.327642   \n",
       "3  0.377436 -1.387024  ... -0.108300  0.005274 -0.190321 -1.175575  0.647376   \n",
       "4 -0.270533  0.817739  ... -0.009431  0.798278 -0.137458  0.141267 -0.206010   \n",
       "\n",
       "        V26       V27       V28  Amount  Class  \n",
       "0 -0.189115  0.133558 -0.021053  149.62      0  \n",
       "1  0.125895 -0.008983  0.014724    2.69      0  \n",
       "2 -0.139097 -0.055353 -0.059752  378.66      0  \n",
       "3 -0.221929  0.062723  0.061458  123.50      0  \n",
       "4  0.502292  0.219422  0.215153   69.99      0  \n",
       "\n",
       "[5 rows x 31 columns]"
      ]
     },
     "execution_count": 2,
     "metadata": {},
     "output_type": "execute_result"
    }
   ],
   "source": [
    "data = pd.read_csv('creditcard.csv')\n",
    "data.head()"
   ]
  },
  {
   "cell_type": "code",
   "execution_count": 3,
   "id": "a8d40622",
   "metadata": {},
   "outputs": [
    {
     "data": {
      "text/plain": [
       "(284807, 31)"
      ]
     },
     "execution_count": 3,
     "metadata": {},
     "output_type": "execute_result"
    }
   ],
   "source": [
    "data.shape"
   ]
  },
  {
   "cell_type": "code",
   "execution_count": 4,
   "id": "7f23b452",
   "metadata": {},
   "outputs": [
    {
     "data": {
      "text/plain": [
       "Time      0\n",
       "V1        0\n",
       "V2        0\n",
       "V3        0\n",
       "V4        0\n",
       "V5        0\n",
       "V6        0\n",
       "V7        0\n",
       "V8        0\n",
       "V9        0\n",
       "V10       0\n",
       "V11       0\n",
       "V12       0\n",
       "V13       0\n",
       "V14       0\n",
       "V15       0\n",
       "V16       0\n",
       "V17       0\n",
       "V18       0\n",
       "V19       0\n",
       "V20       0\n",
       "V21       0\n",
       "V22       0\n",
       "V23       0\n",
       "V24       0\n",
       "V25       0\n",
       "V26       0\n",
       "V27       0\n",
       "V28       0\n",
       "Amount    0\n",
       "Class     0\n",
       "dtype: int64"
      ]
     },
     "execution_count": 4,
     "metadata": {},
     "output_type": "execute_result"
    }
   ],
   "source": [
    "data.isnull().sum()"
   ]
  },
  {
   "cell_type": "code",
   "execution_count": 5,
   "id": "17638123",
   "metadata": {},
   "outputs": [
    {
     "name": "stdout",
     "output_type": "stream",
     "text": [
      "<class 'pandas.core.frame.DataFrame'>\n",
      "RangeIndex: 284807 entries, 0 to 284806\n",
      "Data columns (total 31 columns):\n",
      " #   Column  Non-Null Count   Dtype  \n",
      "---  ------  --------------   -----  \n",
      " 0   Time    284807 non-null  float64\n",
      " 1   V1      284807 non-null  float64\n",
      " 2   V2      284807 non-null  float64\n",
      " 3   V3      284807 non-null  float64\n",
      " 4   V4      284807 non-null  float64\n",
      " 5   V5      284807 non-null  float64\n",
      " 6   V6      284807 non-null  float64\n",
      " 7   V7      284807 non-null  float64\n",
      " 8   V8      284807 non-null  float64\n",
      " 9   V9      284807 non-null  float64\n",
      " 10  V10     284807 non-null  float64\n",
      " 11  V11     284807 non-null  float64\n",
      " 12  V12     284807 non-null  float64\n",
      " 13  V13     284807 non-null  float64\n",
      " 14  V14     284807 non-null  float64\n",
      " 15  V15     284807 non-null  float64\n",
      " 16  V16     284807 non-null  float64\n",
      " 17  V17     284807 non-null  float64\n",
      " 18  V18     284807 non-null  float64\n",
      " 19  V19     284807 non-null  float64\n",
      " 20  V20     284807 non-null  float64\n",
      " 21  V21     284807 non-null  float64\n",
      " 22  V22     284807 non-null  float64\n",
      " 23  V23     284807 non-null  float64\n",
      " 24  V24     284807 non-null  float64\n",
      " 25  V25     284807 non-null  float64\n",
      " 26  V26     284807 non-null  float64\n",
      " 27  V27     284807 non-null  float64\n",
      " 28  V28     284807 non-null  float64\n",
      " 29  Amount  284807 non-null  float64\n",
      " 30  Class   284807 non-null  int64  \n",
      "dtypes: float64(30), int64(1)\n",
      "memory usage: 67.4 MB\n"
     ]
    }
   ],
   "source": [
    "data.info()"
   ]
  },
  {
   "cell_type": "code",
   "execution_count": 6,
   "id": "fa1a4bdc",
   "metadata": {},
   "outputs": [
    {
     "data": {
      "text/plain": [
       "Class\n",
       "0    284315\n",
       "1       492\n",
       "Name: count, dtype: int64"
      ]
     },
     "execution_count": 6,
     "metadata": {},
     "output_type": "execute_result"
    }
   ],
   "source": [
    "data['Class'].value_counts()"
   ]
  },
  {
   "cell_type": "code",
   "execution_count": 7,
   "id": "385021da",
   "metadata": {},
   "outputs": [],
   "source": [
    "##Balancing DataSet"
   ]
  },
  {
   "cell_type": "code",
   "execution_count": 8,
   "id": "a9d6e33a",
   "metadata": {},
   "outputs": [],
   "source": [
    "non_fraud = data[data['Class']==0]\n",
    "fraud = data[data['Class'] == 1]"
   ]
  },
  {
   "cell_type": "code",
   "execution_count": 9,
   "id": "375904df",
   "metadata": {},
   "outputs": [
    {
     "data": {
      "text/plain": [
       "((284315, 31), (492, 31))"
      ]
     },
     "execution_count": 9,
     "metadata": {},
     "output_type": "execute_result"
    }
   ],
   "source": [
    "non_fraud.shape , fraud.shape"
   ]
  },
  {
   "cell_type": "code",
   "execution_count": 10,
   "id": "ac5d6e0f",
   "metadata": {},
   "outputs": [
    {
     "data": {
      "text/plain": [
       "(492, 31)"
      ]
     },
     "execution_count": 10,
     "metadata": {},
     "output_type": "execute_result"
    }
   ],
   "source": [
    "non_fraud = non_fraud.sample(fraud.shape[0])\n",
    "non_fraud.shape"
   ]
  },
  {
   "cell_type": "code",
   "execution_count": 11,
   "id": "431c6ad8",
   "metadata": {},
   "outputs": [
    {
     "data": {
      "text/html": [
       "<div>\n",
       "<style scoped>\n",
       "    .dataframe tbody tr th:only-of-type {\n",
       "        vertical-align: middle;\n",
       "    }\n",
       "\n",
       "    .dataframe tbody tr th {\n",
       "        vertical-align: top;\n",
       "    }\n",
       "\n",
       "    .dataframe thead th {\n",
       "        text-align: right;\n",
       "    }\n",
       "</style>\n",
       "<table border=\"1\" class=\"dataframe\">\n",
       "  <thead>\n",
       "    <tr style=\"text-align: right;\">\n",
       "      <th></th>\n",
       "      <th>Time</th>\n",
       "      <th>V1</th>\n",
       "      <th>V2</th>\n",
       "      <th>V3</th>\n",
       "      <th>V4</th>\n",
       "      <th>V5</th>\n",
       "      <th>V6</th>\n",
       "      <th>V7</th>\n",
       "      <th>V8</th>\n",
       "      <th>V9</th>\n",
       "      <th>...</th>\n",
       "      <th>V21</th>\n",
       "      <th>V22</th>\n",
       "      <th>V23</th>\n",
       "      <th>V24</th>\n",
       "      <th>V25</th>\n",
       "      <th>V26</th>\n",
       "      <th>V27</th>\n",
       "      <th>V28</th>\n",
       "      <th>Amount</th>\n",
       "      <th>Class</th>\n",
       "    </tr>\n",
       "  </thead>\n",
       "  <tbody>\n",
       "    <tr>\n",
       "      <th>0</th>\n",
       "      <td>406.0</td>\n",
       "      <td>-2.312227</td>\n",
       "      <td>1.951992</td>\n",
       "      <td>-1.609851</td>\n",
       "      <td>3.997906</td>\n",
       "      <td>-0.522188</td>\n",
       "      <td>-1.426545</td>\n",
       "      <td>-2.537387</td>\n",
       "      <td>1.391657</td>\n",
       "      <td>-2.770089</td>\n",
       "      <td>...</td>\n",
       "      <td>0.517232</td>\n",
       "      <td>-0.035049</td>\n",
       "      <td>-0.465211</td>\n",
       "      <td>0.320198</td>\n",
       "      <td>0.044519</td>\n",
       "      <td>0.177840</td>\n",
       "      <td>0.261145</td>\n",
       "      <td>-0.143276</td>\n",
       "      <td>0.00</td>\n",
       "      <td>1</td>\n",
       "    </tr>\n",
       "    <tr>\n",
       "      <th>1</th>\n",
       "      <td>472.0</td>\n",
       "      <td>-3.043541</td>\n",
       "      <td>-3.157307</td>\n",
       "      <td>1.088463</td>\n",
       "      <td>2.288644</td>\n",
       "      <td>1.359805</td>\n",
       "      <td>-1.064823</td>\n",
       "      <td>0.325574</td>\n",
       "      <td>-0.067794</td>\n",
       "      <td>-0.270953</td>\n",
       "      <td>...</td>\n",
       "      <td>0.661696</td>\n",
       "      <td>0.435477</td>\n",
       "      <td>1.375966</td>\n",
       "      <td>-0.293803</td>\n",
       "      <td>0.279798</td>\n",
       "      <td>-0.145362</td>\n",
       "      <td>-0.252773</td>\n",
       "      <td>0.035764</td>\n",
       "      <td>529.00</td>\n",
       "      <td>1</td>\n",
       "    </tr>\n",
       "    <tr>\n",
       "      <th>2</th>\n",
       "      <td>4462.0</td>\n",
       "      <td>-2.303350</td>\n",
       "      <td>1.759247</td>\n",
       "      <td>-0.359745</td>\n",
       "      <td>2.330243</td>\n",
       "      <td>-0.821628</td>\n",
       "      <td>-0.075788</td>\n",
       "      <td>0.562320</td>\n",
       "      <td>-0.399147</td>\n",
       "      <td>-0.238253</td>\n",
       "      <td>...</td>\n",
       "      <td>-0.294166</td>\n",
       "      <td>-0.932391</td>\n",
       "      <td>0.172726</td>\n",
       "      <td>-0.087330</td>\n",
       "      <td>-0.156114</td>\n",
       "      <td>-0.542628</td>\n",
       "      <td>0.039566</td>\n",
       "      <td>-0.153029</td>\n",
       "      <td>239.93</td>\n",
       "      <td>1</td>\n",
       "    </tr>\n",
       "    <tr>\n",
       "      <th>3</th>\n",
       "      <td>6986.0</td>\n",
       "      <td>-4.397974</td>\n",
       "      <td>1.358367</td>\n",
       "      <td>-2.592844</td>\n",
       "      <td>2.679787</td>\n",
       "      <td>-1.128131</td>\n",
       "      <td>-1.706536</td>\n",
       "      <td>-3.496197</td>\n",
       "      <td>-0.248778</td>\n",
       "      <td>-0.247768</td>\n",
       "      <td>...</td>\n",
       "      <td>0.573574</td>\n",
       "      <td>0.176968</td>\n",
       "      <td>-0.436207</td>\n",
       "      <td>-0.053502</td>\n",
       "      <td>0.252405</td>\n",
       "      <td>-0.657488</td>\n",
       "      <td>-0.827136</td>\n",
       "      <td>0.849573</td>\n",
       "      <td>59.00</td>\n",
       "      <td>1</td>\n",
       "    </tr>\n",
       "    <tr>\n",
       "      <th>4</th>\n",
       "      <td>7519.0</td>\n",
       "      <td>1.234235</td>\n",
       "      <td>3.019740</td>\n",
       "      <td>-4.304597</td>\n",
       "      <td>4.732795</td>\n",
       "      <td>3.624201</td>\n",
       "      <td>-1.357746</td>\n",
       "      <td>1.713445</td>\n",
       "      <td>-0.496358</td>\n",
       "      <td>-1.282858</td>\n",
       "      <td>...</td>\n",
       "      <td>-0.379068</td>\n",
       "      <td>-0.704181</td>\n",
       "      <td>-0.656805</td>\n",
       "      <td>-1.632653</td>\n",
       "      <td>1.488901</td>\n",
       "      <td>0.566797</td>\n",
       "      <td>-0.010016</td>\n",
       "      <td>0.146793</td>\n",
       "      <td>1.00</td>\n",
       "      <td>1</td>\n",
       "    </tr>\n",
       "    <tr>\n",
       "      <th>...</th>\n",
       "      <td>...</td>\n",
       "      <td>...</td>\n",
       "      <td>...</td>\n",
       "      <td>...</td>\n",
       "      <td>...</td>\n",
       "      <td>...</td>\n",
       "      <td>...</td>\n",
       "      <td>...</td>\n",
       "      <td>...</td>\n",
       "      <td>...</td>\n",
       "      <td>...</td>\n",
       "      <td>...</td>\n",
       "      <td>...</td>\n",
       "      <td>...</td>\n",
       "      <td>...</td>\n",
       "      <td>...</td>\n",
       "      <td>...</td>\n",
       "      <td>...</td>\n",
       "      <td>...</td>\n",
       "      <td>...</td>\n",
       "      <td>...</td>\n",
       "    </tr>\n",
       "    <tr>\n",
       "      <th>979</th>\n",
       "      <td>85103.0</td>\n",
       "      <td>-1.119139</td>\n",
       "      <td>-1.319172</td>\n",
       "      <td>2.712763</td>\n",
       "      <td>0.373307</td>\n",
       "      <td>0.187604</td>\n",
       "      <td>-0.535688</td>\n",
       "      <td>-1.075116</td>\n",
       "      <td>0.327021</td>\n",
       "      <td>1.930100</td>\n",
       "      <td>...</td>\n",
       "      <td>0.048742</td>\n",
       "      <td>0.336264</td>\n",
       "      <td>0.150366</td>\n",
       "      <td>0.396191</td>\n",
       "      <td>-0.773697</td>\n",
       "      <td>0.312911</td>\n",
       "      <td>-0.010505</td>\n",
       "      <td>-0.009958</td>\n",
       "      <td>3.00</td>\n",
       "      <td>0</td>\n",
       "    </tr>\n",
       "    <tr>\n",
       "      <th>980</th>\n",
       "      <td>80064.0</td>\n",
       "      <td>0.959940</td>\n",
       "      <td>-1.411583</td>\n",
       "      <td>1.414146</td>\n",
       "      <td>-1.654882</td>\n",
       "      <td>-1.643859</td>\n",
       "      <td>1.083356</td>\n",
       "      <td>-1.516207</td>\n",
       "      <td>0.638181</td>\n",
       "      <td>3.375127</td>\n",
       "      <td>...</td>\n",
       "      <td>0.245154</td>\n",
       "      <td>1.308258</td>\n",
       "      <td>-0.226581</td>\n",
       "      <td>-0.185593</td>\n",
       "      <td>0.557153</td>\n",
       "      <td>-0.459865</td>\n",
       "      <td>0.179636</td>\n",
       "      <td>0.029354</td>\n",
       "      <td>60.49</td>\n",
       "      <td>0</td>\n",
       "    </tr>\n",
       "    <tr>\n",
       "      <th>981</th>\n",
       "      <td>58270.0</td>\n",
       "      <td>-1.357250</td>\n",
       "      <td>0.032231</td>\n",
       "      <td>1.720698</td>\n",
       "      <td>0.501374</td>\n",
       "      <td>0.994244</td>\n",
       "      <td>-1.075166</td>\n",
       "      <td>0.672932</td>\n",
       "      <td>-0.067857</td>\n",
       "      <td>-0.386332</td>\n",
       "      <td>...</td>\n",
       "      <td>0.060612</td>\n",
       "      <td>-0.025464</td>\n",
       "      <td>-0.033170</td>\n",
       "      <td>0.388344</td>\n",
       "      <td>0.554065</td>\n",
       "      <td>-0.504343</td>\n",
       "      <td>0.030794</td>\n",
       "      <td>0.116526</td>\n",
       "      <td>64.55</td>\n",
       "      <td>0</td>\n",
       "    </tr>\n",
       "    <tr>\n",
       "      <th>982</th>\n",
       "      <td>124091.0</td>\n",
       "      <td>2.030364</td>\n",
       "      <td>-0.853859</td>\n",
       "      <td>-2.790614</td>\n",
       "      <td>-0.878696</td>\n",
       "      <td>0.392206</td>\n",
       "      <td>-1.346515</td>\n",
       "      <td>0.697812</td>\n",
       "      <td>-0.697889</td>\n",
       "      <td>-1.185843</td>\n",
       "      <td>...</td>\n",
       "      <td>0.558700</td>\n",
       "      <td>1.361286</td>\n",
       "      <td>-0.360947</td>\n",
       "      <td>0.707319</td>\n",
       "      <td>0.781176</td>\n",
       "      <td>0.257982</td>\n",
       "      <td>-0.124234</td>\n",
       "      <td>-0.060075</td>\n",
       "      <td>163.00</td>\n",
       "      <td>0</td>\n",
       "    </tr>\n",
       "    <tr>\n",
       "      <th>983</th>\n",
       "      <td>147155.0</td>\n",
       "      <td>2.116483</td>\n",
       "      <td>0.620967</td>\n",
       "      <td>-3.264162</td>\n",
       "      <td>0.702481</td>\n",
       "      <td>1.204245</td>\n",
       "      <td>-1.614682</td>\n",
       "      <td>0.751119</td>\n",
       "      <td>-0.418787</td>\n",
       "      <td>0.193866</td>\n",
       "      <td>...</td>\n",
       "      <td>-0.089569</td>\n",
       "      <td>-0.102351</td>\n",
       "      <td>-0.043550</td>\n",
       "      <td>0.463582</td>\n",
       "      <td>0.380405</td>\n",
       "      <td>0.689406</td>\n",
       "      <td>-0.088733</td>\n",
       "      <td>-0.016259</td>\n",
       "      <td>0.76</td>\n",
       "      <td>0</td>\n",
       "    </tr>\n",
       "  </tbody>\n",
       "</table>\n",
       "<p>984 rows × 31 columns</p>\n",
       "</div>"
      ],
      "text/plain": [
       "         Time        V1        V2        V3        V4        V5        V6   \n",
       "0       406.0 -2.312227  1.951992 -1.609851  3.997906 -0.522188 -1.426545  \\\n",
       "1       472.0 -3.043541 -3.157307  1.088463  2.288644  1.359805 -1.064823   \n",
       "2      4462.0 -2.303350  1.759247 -0.359745  2.330243 -0.821628 -0.075788   \n",
       "3      6986.0 -4.397974  1.358367 -2.592844  2.679787 -1.128131 -1.706536   \n",
       "4      7519.0  1.234235  3.019740 -4.304597  4.732795  3.624201 -1.357746   \n",
       "..        ...       ...       ...       ...       ...       ...       ...   \n",
       "979   85103.0 -1.119139 -1.319172  2.712763  0.373307  0.187604 -0.535688   \n",
       "980   80064.0  0.959940 -1.411583  1.414146 -1.654882 -1.643859  1.083356   \n",
       "981   58270.0 -1.357250  0.032231  1.720698  0.501374  0.994244 -1.075166   \n",
       "982  124091.0  2.030364 -0.853859 -2.790614 -0.878696  0.392206 -1.346515   \n",
       "983  147155.0  2.116483  0.620967 -3.264162  0.702481  1.204245 -1.614682   \n",
       "\n",
       "           V7        V8        V9  ...       V21       V22       V23   \n",
       "0   -2.537387  1.391657 -2.770089  ...  0.517232 -0.035049 -0.465211  \\\n",
       "1    0.325574 -0.067794 -0.270953  ...  0.661696  0.435477  1.375966   \n",
       "2    0.562320 -0.399147 -0.238253  ... -0.294166 -0.932391  0.172726   \n",
       "3   -3.496197 -0.248778 -0.247768  ...  0.573574  0.176968 -0.436207   \n",
       "4    1.713445 -0.496358 -1.282858  ... -0.379068 -0.704181 -0.656805   \n",
       "..        ...       ...       ...  ...       ...       ...       ...   \n",
       "979 -1.075116  0.327021  1.930100  ...  0.048742  0.336264  0.150366   \n",
       "980 -1.516207  0.638181  3.375127  ...  0.245154  1.308258 -0.226581   \n",
       "981  0.672932 -0.067857 -0.386332  ...  0.060612 -0.025464 -0.033170   \n",
       "982  0.697812 -0.697889 -1.185843  ...  0.558700  1.361286 -0.360947   \n",
       "983  0.751119 -0.418787  0.193866  ... -0.089569 -0.102351 -0.043550   \n",
       "\n",
       "          V24       V25       V26       V27       V28  Amount  Class  \n",
       "0    0.320198  0.044519  0.177840  0.261145 -0.143276    0.00      1  \n",
       "1   -0.293803  0.279798 -0.145362 -0.252773  0.035764  529.00      1  \n",
       "2   -0.087330 -0.156114 -0.542628  0.039566 -0.153029  239.93      1  \n",
       "3   -0.053502  0.252405 -0.657488 -0.827136  0.849573   59.00      1  \n",
       "4   -1.632653  1.488901  0.566797 -0.010016  0.146793    1.00      1  \n",
       "..        ...       ...       ...       ...       ...     ...    ...  \n",
       "979  0.396191 -0.773697  0.312911 -0.010505 -0.009958    3.00      0  \n",
       "980 -0.185593  0.557153 -0.459865  0.179636  0.029354   60.49      0  \n",
       "981  0.388344  0.554065 -0.504343  0.030794  0.116526   64.55      0  \n",
       "982  0.707319  0.781176  0.257982 -0.124234 -0.060075  163.00      0  \n",
       "983  0.463582  0.380405  0.689406 -0.088733 -0.016259    0.76      0  \n",
       "\n",
       "[984 rows x 31 columns]"
      ]
     },
     "execution_count": 11,
     "metadata": {},
     "output_type": "execute_result"
    }
   ],
   "source": [
    "data = fraud._append(non_fraud , ignore_index = True)\n",
    "data"
   ]
  },
  {
   "cell_type": "code",
   "execution_count": 12,
   "id": "3bf189a0",
   "metadata": {},
   "outputs": [
    {
     "data": {
      "text/plain": [
       "Class\n",
       "1    492\n",
       "0    492\n",
       "Name: count, dtype: int64"
      ]
     },
     "execution_count": 12,
     "metadata": {},
     "output_type": "execute_result"
    }
   ],
   "source": [
    "data['Class'].value_counts()"
   ]
  },
  {
   "cell_type": "code",
   "execution_count": 13,
   "id": "520163ef",
   "metadata": {},
   "outputs": [],
   "source": [
    "x = data.drop('Class' , axis = 1)\n",
    "y = data['Class']"
   ]
  },
  {
   "cell_type": "code",
   "execution_count": 14,
   "id": "920e3de0",
   "metadata": {},
   "outputs": [],
   "source": [
    "x_train , x_test , y_train , y_test = train_test_split(x,y,test_size = 0.2 , random_state = 0 , stratify = y) "
   ]
  },
  {
   "cell_type": "code",
   "execution_count": 15,
   "id": "9e1f157e",
   "metadata": {},
   "outputs": [
    {
     "data": {
      "text/plain": [
       "((787, 30), (197, 30))"
      ]
     },
     "execution_count": 15,
     "metadata": {},
     "output_type": "execute_result"
    }
   ],
   "source": [
    "x_train.shape , x_test.shape"
   ]
  },
  {
   "cell_type": "code",
   "execution_count": 16,
   "id": "0f38cb17",
   "metadata": {},
   "outputs": [],
   "source": [
    "scaler = StandardScaler()\n",
    "x_train = scaler.fit_transform(x_train)\n",
    "x_test = scaler.fit_transform(x_test)"
   ]
  },
  {
   "cell_type": "code",
   "execution_count": 17,
   "id": "82eda337",
   "metadata": {},
   "outputs": [],
   "source": [
    "y_train = y_train.to_numpy()\n",
    "y_test = y_test.to_numpy()"
   ]
  },
  {
   "cell_type": "code",
   "execution_count": 18,
   "id": "7f575096",
   "metadata": {},
   "outputs": [
    {
     "data": {
      "text/plain": [
       "(787, 30)"
      ]
     },
     "execution_count": 18,
     "metadata": {},
     "output_type": "execute_result"
    }
   ],
   "source": [
    "x_train.shape"
   ]
  },
  {
   "cell_type": "code",
   "execution_count": 19,
   "id": "bdbb262f",
   "metadata": {},
   "outputs": [],
   "source": [
    "x_train = x_train.reshape(x_train.shape[0] , x_train.shape[1] , 1)\n",
    "x_test = x_test.reshape(x_test.shape[0] , x_test.shape[1] , 1)"
   ]
  },
  {
   "cell_type": "code",
   "execution_count": 20,
   "id": "c16b6f7a",
   "metadata": {},
   "outputs": [
    {
     "data": {
      "text/plain": [
       "((787, 30, 1), (197, 30, 1))"
      ]
     },
     "execution_count": 20,
     "metadata": {},
     "output_type": "execute_result"
    }
   ],
   "source": [
    "x_train.shape , x_test.shape"
   ]
  },
  {
   "cell_type": "code",
   "execution_count": null,
   "id": "d4b17095",
   "metadata": {},
   "outputs": [],
   "source": []
  },
  {
   "cell_type": "markdown",
   "id": "f4e01340",
   "metadata": {},
   "source": [
    "CNN"
   ]
  },
  {
   "cell_type": "code",
   "execution_count": 21,
   "id": "a33a0847",
   "metadata": {},
   "outputs": [],
   "source": [
    "import tensorflow as tf\n",
    "from tensorflow import keras\n",
    "from tensorflow.keras import Sequential\n",
    "from tensorflow.keras.layers import Flatten,Dense,Dropout,BatchNormalization\n",
    "from tensorflow.keras.layers import Conv1D , MaxPool1D\n"
   ]
  },
  {
   "cell_type": "code",
   "execution_count": 22,
   "id": "39562630",
   "metadata": {},
   "outputs": [],
   "source": [
    "epochs = 50\n",
    "model = Sequential()\n",
    "model.add(Conv1D(32,2,activation='relu', input_shape = x_train[0].shape))\n",
    "model.add(BatchNormalization())\n",
    "model.add(Dropout(0.2))\n",
    "\n",
    "model.add(Conv1D(64,2,activation='relu'))\n",
    "model.add(BatchNormalization())\n",
    "model.add(Dropout(0.5))\n",
    "\n",
    "model.add(Flatten())\n",
    "model.add(Dense(64, activation = 'relu'))\n",
    "model.add(Dropout(0.5))\n",
    "\n",
    "model.add(Dense(1,activation = 'sigmoid'))"
   ]
  },
  {
   "cell_type": "code",
   "execution_count": 23,
   "id": "354bb995",
   "metadata": {},
   "outputs": [
    {
     "name": "stdout",
     "output_type": "stream",
     "text": [
      "Model: \"sequential\"\n",
      "_________________________________________________________________\n",
      " Layer (type)                Output Shape              Param #   \n",
      "=================================================================\n",
      " conv1d (Conv1D)             (None, 29, 32)            96        \n",
      "                                                                 \n",
      " batch_normalization (Batch  (None, 29, 32)            128       \n",
      " Normalization)                                                  \n",
      "                                                                 \n",
      " dropout (Dropout)           (None, 29, 32)            0         \n",
      "                                                                 \n",
      " conv1d_1 (Conv1D)           (None, 28, 64)            4160      \n",
      "                                                                 \n",
      " batch_normalization_1 (Bat  (None, 28, 64)            256       \n",
      " chNormalization)                                                \n",
      "                                                                 \n",
      " dropout_1 (Dropout)         (None, 28, 64)            0         \n",
      "                                                                 \n",
      " flatten (Flatten)           (None, 1792)              0         \n",
      "                                                                 \n",
      " dense (Dense)               (None, 64)                114752    \n",
      "                                                                 \n",
      " dropout_2 (Dropout)         (None, 64)                0         \n",
      "                                                                 \n",
      " dense_1 (Dense)             (None, 1)                 65        \n",
      "                                                                 \n",
      "=================================================================\n",
      "Total params: 119457 (466.63 KB)\n",
      "Trainable params: 119265 (465.88 KB)\n",
      "Non-trainable params: 192 (768.00 Byte)\n",
      "_________________________________________________________________\n"
     ]
    }
   ],
   "source": [
    "model.summary()"
   ]
  },
  {
   "cell_type": "code",
   "execution_count": 24,
   "id": "41b677e9",
   "metadata": {},
   "outputs": [],
   "source": [
    "from tensorflow.keras.optimizers import Adam"
   ]
  },
  {
   "cell_type": "code",
   "execution_count": 25,
   "id": "26cc9700",
   "metadata": {},
   "outputs": [
    {
     "name": "stderr",
     "output_type": "stream",
     "text": [
      "WARNING:absl:`lr` is deprecated in Keras optimizer, please use `learning_rate` or use the legacy optimizer, e.g.,tf.keras.optimizers.legacy.Adam.\n"
     ]
    }
   ],
   "source": [
    "model.compile(optimizer = Adam(lr = 0.0001), loss = 'binary_crossentropy' , metrics=['accuracy'])"
   ]
  },
  {
   "cell_type": "code",
   "execution_count": 26,
   "id": "bff58f14",
   "metadata": {},
   "outputs": [
    {
     "name": "stdout",
     "output_type": "stream",
     "text": [
      "Epoch 1/50\n",
      "25/25 [==============================] - 1s 13ms/step - loss: 0.3930 - accuracy: 0.8615 - val_loss: 0.4882 - val_accuracy: 0.9137\n",
      "Epoch 2/50\n",
      "25/25 [==============================] - 0s 6ms/step - loss: 0.2264 - accuracy: 0.9161 - val_loss: 0.4697 - val_accuracy: 0.7056\n",
      "Epoch 3/50\n",
      "25/25 [==============================] - 0s 5ms/step - loss: 0.2002 - accuracy: 0.9352 - val_loss: 0.4975 - val_accuracy: 0.5533\n",
      "Epoch 4/50\n",
      "25/25 [==============================] - 0s 5ms/step - loss: 0.1807 - accuracy: 0.9365 - val_loss: 0.4198 - val_accuracy: 0.7563\n",
      "Epoch 5/50\n",
      "25/25 [==============================] - 0s 5ms/step - loss: 0.1769 - accuracy: 0.9390 - val_loss: 0.3360 - val_accuracy: 0.9137\n",
      "Epoch 6/50\n",
      "25/25 [==============================] - 0s 6ms/step - loss: 0.1521 - accuracy: 0.9466 - val_loss: 0.4563 - val_accuracy: 0.6294\n",
      "Epoch 7/50\n",
      "25/25 [==============================] - 0s 6ms/step - loss: 0.1645 - accuracy: 0.9365 - val_loss: 0.3437 - val_accuracy: 0.8376\n",
      "Epoch 8/50\n",
      "25/25 [==============================] - 0s 6ms/step - loss: 0.1442 - accuracy: 0.9517 - val_loss: 0.3601 - val_accuracy: 0.8071\n",
      "Epoch 9/50\n",
      "25/25 [==============================] - 0s 6ms/step - loss: 0.1183 - accuracy: 0.9543 - val_loss: 0.3203 - val_accuracy: 0.8579\n",
      "Epoch 10/50\n",
      "25/25 [==============================] - 0s 5ms/step - loss: 0.1219 - accuracy: 0.9517 - val_loss: 0.2450 - val_accuracy: 0.9086\n",
      "Epoch 11/50\n",
      "25/25 [==============================] - 0s 6ms/step - loss: 0.1322 - accuracy: 0.9492 - val_loss: 0.2666 - val_accuracy: 0.8985\n",
      "Epoch 12/50\n",
      "25/25 [==============================] - 0s 7ms/step - loss: 0.1309 - accuracy: 0.9543 - val_loss: 0.2032 - val_accuracy: 0.9188\n",
      "Epoch 13/50\n",
      "25/25 [==============================] - 0s 7ms/step - loss: 0.1153 - accuracy: 0.9593 - val_loss: 0.1995 - val_accuracy: 0.9239\n",
      "Epoch 14/50\n",
      "25/25 [==============================] - 0s 6ms/step - loss: 0.1187 - accuracy: 0.9593 - val_loss: 0.2234 - val_accuracy: 0.9340\n",
      "Epoch 15/50\n",
      "25/25 [==============================] - 0s 5ms/step - loss: 0.1207 - accuracy: 0.9619 - val_loss: 0.1921 - val_accuracy: 0.9340\n",
      "Epoch 16/50\n",
      "25/25 [==============================] - 0s 6ms/step - loss: 0.1329 - accuracy: 0.9517 - val_loss: 0.2103 - val_accuracy: 0.9188\n",
      "Epoch 17/50\n",
      "25/25 [==============================] - 0s 7ms/step - loss: 0.1178 - accuracy: 0.9606 - val_loss: 0.1911 - val_accuracy: 0.9289\n",
      "Epoch 18/50\n",
      "25/25 [==============================] - 0s 8ms/step - loss: 0.1160 - accuracy: 0.9543 - val_loss: 0.1924 - val_accuracy: 0.9289\n",
      "Epoch 19/50\n",
      "25/25 [==============================] - 0s 8ms/step - loss: 0.1150 - accuracy: 0.9568 - val_loss: 0.1908 - val_accuracy: 0.9188\n",
      "Epoch 20/50\n",
      "25/25 [==============================] - 0s 8ms/step - loss: 0.1201 - accuracy: 0.9606 - val_loss: 0.1713 - val_accuracy: 0.9239\n",
      "Epoch 21/50\n",
      "25/25 [==============================] - 0s 5ms/step - loss: 0.0938 - accuracy: 0.9708 - val_loss: 0.1823 - val_accuracy: 0.9239\n",
      "Epoch 22/50\n",
      "25/25 [==============================] - 0s 9ms/step - loss: 0.0939 - accuracy: 0.9632 - val_loss: 0.1877 - val_accuracy: 0.9188\n",
      "Epoch 23/50\n",
      "25/25 [==============================] - 0s 8ms/step - loss: 0.0908 - accuracy: 0.9644 - val_loss: 0.1917 - val_accuracy: 0.9239\n",
      "Epoch 24/50\n",
      "25/25 [==============================] - 0s 8ms/step - loss: 0.0955 - accuracy: 0.9670 - val_loss: 0.1891 - val_accuracy: 0.9289\n",
      "Epoch 25/50\n",
      "25/25 [==============================] - 0s 8ms/step - loss: 0.0909 - accuracy: 0.9682 - val_loss: 0.1990 - val_accuracy: 0.9289\n",
      "Epoch 26/50\n",
      "25/25 [==============================] - 0s 8ms/step - loss: 0.0950 - accuracy: 0.9632 - val_loss: 0.1847 - val_accuracy: 0.9391\n",
      "Epoch 27/50\n",
      "25/25 [==============================] - 0s 8ms/step - loss: 0.0830 - accuracy: 0.9746 - val_loss: 0.1831 - val_accuracy: 0.9239\n",
      "Epoch 28/50\n",
      "25/25 [==============================] - 0s 8ms/step - loss: 0.0957 - accuracy: 0.9632 - val_loss: 0.2011 - val_accuracy: 0.9137\n",
      "Epoch 29/50\n",
      "25/25 [==============================] - 0s 8ms/step - loss: 0.0868 - accuracy: 0.9682 - val_loss: 0.2108 - val_accuracy: 0.9188\n",
      "Epoch 30/50\n",
      "25/25 [==============================] - 0s 8ms/step - loss: 0.0839 - accuracy: 0.9733 - val_loss: 0.2100 - val_accuracy: 0.9239\n",
      "Epoch 31/50\n",
      "25/25 [==============================] - 0s 9ms/step - loss: 0.0808 - accuracy: 0.9695 - val_loss: 0.2025 - val_accuracy: 0.9239\n",
      "Epoch 32/50\n",
      "25/25 [==============================] - 0s 8ms/step - loss: 0.0808 - accuracy: 0.9733 - val_loss: 0.2129 - val_accuracy: 0.9289\n",
      "Epoch 33/50\n",
      "25/25 [==============================] - 0s 8ms/step - loss: 0.0689 - accuracy: 0.9733 - val_loss: 0.2254 - val_accuracy: 0.9391\n",
      "Epoch 34/50\n",
      "25/25 [==============================] - 0s 8ms/step - loss: 0.0802 - accuracy: 0.9771 - val_loss: 0.2244 - val_accuracy: 0.9391\n",
      "Epoch 35/50\n",
      "25/25 [==============================] - 0s 8ms/step - loss: 0.0877 - accuracy: 0.9682 - val_loss: 0.2136 - val_accuracy: 0.9239\n",
      "Epoch 36/50\n",
      "25/25 [==============================] - 0s 9ms/step - loss: 0.0723 - accuracy: 0.9733 - val_loss: 0.2135 - val_accuracy: 0.9086\n",
      "Epoch 37/50\n",
      "25/25 [==============================] - 0s 9ms/step - loss: 0.0897 - accuracy: 0.9720 - val_loss: 0.2555 - val_accuracy: 0.9239\n",
      "Epoch 38/50\n",
      "25/25 [==============================] - 0s 8ms/step - loss: 0.0845 - accuracy: 0.9720 - val_loss: 0.2256 - val_accuracy: 0.9239\n",
      "Epoch 39/50\n",
      "25/25 [==============================] - 0s 9ms/step - loss: 0.0630 - accuracy: 0.9784 - val_loss: 0.2387 - val_accuracy: 0.9188\n",
      "Epoch 40/50\n",
      "25/25 [==============================] - 0s 8ms/step - loss: 0.0857 - accuracy: 0.9784 - val_loss: 0.1977 - val_accuracy: 0.9188\n",
      "Epoch 41/50\n",
      "25/25 [==============================] - 0s 8ms/step - loss: 0.0700 - accuracy: 0.9771 - val_loss: 0.1760 - val_accuracy: 0.9289\n",
      "Epoch 42/50\n",
      "25/25 [==============================] - 0s 9ms/step - loss: 0.0684 - accuracy: 0.9784 - val_loss: 0.1929 - val_accuracy: 0.9137\n",
      "Epoch 43/50\n",
      "25/25 [==============================] - 0s 8ms/step - loss: 0.0820 - accuracy: 0.9695 - val_loss: 0.2082 - val_accuracy: 0.9086\n",
      "Epoch 44/50\n",
      "25/25 [==============================] - 0s 9ms/step - loss: 0.0636 - accuracy: 0.9797 - val_loss: 0.2073 - val_accuracy: 0.9086\n",
      "Epoch 45/50\n",
      "25/25 [==============================] - 0s 9ms/step - loss: 0.0781 - accuracy: 0.9708 - val_loss: 0.1824 - val_accuracy: 0.9188\n",
      "Epoch 46/50\n",
      "25/25 [==============================] - 0s 9ms/step - loss: 0.0619 - accuracy: 0.9759 - val_loss: 0.1808 - val_accuracy: 0.9239\n",
      "Epoch 47/50\n",
      "25/25 [==============================] - 0s 8ms/step - loss: 0.0832 - accuracy: 0.9708 - val_loss: 0.2005 - val_accuracy: 0.9086\n",
      "Epoch 48/50\n",
      "25/25 [==============================] - 0s 8ms/step - loss: 0.0658 - accuracy: 0.9746 - val_loss: 0.2283 - val_accuracy: 0.9086\n",
      "Epoch 49/50\n",
      "25/25 [==============================] - 0s 8ms/step - loss: 0.0563 - accuracy: 0.9771 - val_loss: 0.2356 - val_accuracy: 0.9036\n",
      "Epoch 50/50\n",
      "25/25 [==============================] - 0s 8ms/step - loss: 0.0580 - accuracy: 0.9759 - val_loss: 0.2204 - val_accuracy: 0.9188\n"
     ]
    }
   ],
   "source": [
    "history = model.fit(x_train , y_train , epochs = epochs , validation_data = (x_test , y_test) , verbose = 1)"
   ]
  },
  {
   "cell_type": "code",
   "execution_count": null,
   "id": "b7d25de0",
   "metadata": {},
   "outputs": [],
   "source": []
  },
  {
   "cell_type": "code",
   "execution_count": 27,
   "id": "5211485f",
   "metadata": {},
   "outputs": [],
   "source": [
    "def plot_lr(history , epochs):\n",
    "    epoch_range = range(1,epochs+1)\n",
    "    plt.plot(epoch_range, history.history['accuracy'])\n",
    "    plt.plot(epoch_range, history.history['val_accuracy'])\n",
    "    plt.title('Model Accuracy')\n",
    "    plt.ylabel('Accuracy')\n",
    "    plt.xlabel('Epoch')\n",
    "    plt.legend(['train','val'] , loc = 'upper left')\n",
    "    plt.show()\n",
    "    \n",
    "    plt.plot(epoch_range, history.history['loss'])\n",
    "    plt.plot(epoch_range, history.history['val_loss'])\n",
    "    plt.title('Model Loss')\n",
    "    plt.ylabel('Los')\n",
    "    plt.xlabel('Epoch')\n",
    "    plt.legend(['train','val'] , loc = 'upper left')\n",
    "    plt.show()"
   ]
  },
  {
   "cell_type": "code",
   "execution_count": 28,
   "id": "883c6771",
   "metadata": {},
   "outputs": [
    {
     "data": {
      "image/png": "[encoded data removed]",
      "text/plain": [
       "<Figure size 640x480 with 1 Axes>"
      ]
     },
     "metadata": {},
     "output_type": "display_data"
    },
    {
     "data": {
      "image/png": "[encoded data removed]",
      "text/plain": [
       "<Figure size 640x480 with 1 Axes>"
      ]
     },
     "metadata": {},
     "output_type": "display_data"
    }
   ],
   "source": [
    "plot_lr(history , epochs)"
   ]
  },
  {
   "cell_type": "code",
   "execution_count": null,
   "id": "25421cd5",
   "metadata": {},
   "outputs": [],
   "source": []
  },
  {
   "cell_type": "code",
   "execution_count": null,
   "id": "041c204b",
   "metadata": {},
   "outputs": [],
   "source": []
  },
  {
   "cell_type": "code",
   "execution_count": 29,
   "id": "b53768f5",
   "metadata": {},
   "outputs": [
    {
     "name": "stderr",
     "output_type": "stream",
     "text": [
      "WARNING:absl:`lr` is deprecated in Keras optimizer, please use `learning_rate` or use the legacy optimizer, e.g.,tf.keras.optimizers.legacy.Adam.\n"
     ]
    },
    {
     "name": "stdout",
     "output_type": "stream",
     "text": [
      "Epoch 1/50\n",
      "25/25 [==============================] - 2s 16ms/step - loss: 0.7042 - accuracy: 0.7268 - val_loss: 0.5560 - val_accuracy: 0.8832\n",
      "Epoch 2/50\n",
      "25/25 [==============================] - 0s 6ms/step - loss: 0.3274 - accuracy: 0.8780 - val_loss: 0.5201 - val_accuracy: 0.9036\n",
      "Epoch 3/50\n",
      "25/25 [==============================] - 0s 7ms/step - loss: 0.2665 - accuracy: 0.8907 - val_loss: 0.4933 - val_accuracy: 0.9036\n",
      "Epoch 4/50\n",
      "25/25 [==============================] - 0s 7ms/step - loss: 0.2607 - accuracy: 0.9149 - val_loss: 0.4451 - val_accuracy: 0.9137\n",
      "Epoch 5/50\n",
      "25/25 [==============================] - 0s 5ms/step - loss: 0.2067 - accuracy: 0.9276 - val_loss: 0.3954 - val_accuracy: 0.9188\n",
      "Epoch 6/50\n",
      "25/25 [==============================] - 0s 5ms/step - loss: 0.2093 - accuracy: 0.9314 - val_loss: 0.3538 - val_accuracy: 0.9188\n",
      "Epoch 7/50\n",
      "25/25 [==============================] - 0s 4ms/step - loss: 0.2388 - accuracy: 0.9225 - val_loss: 0.3081 - val_accuracy: 0.9239\n",
      "Epoch 8/50\n",
      "25/25 [==============================] - 0s 5ms/step - loss: 0.2137 - accuracy: 0.9250 - val_loss: 0.2728 - val_accuracy: 0.9086\n",
      "Epoch 9/50\n",
      "25/25 [==============================] - 0s 5ms/step - loss: 0.2007 - accuracy: 0.9314 - val_loss: 0.2498 - val_accuracy: 0.9137\n",
      "Epoch 10/50\n",
      "25/25 [==============================] - 0s 4ms/step - loss: 0.2077 - accuracy: 0.9339 - val_loss: 0.2308 - val_accuracy: 0.9188\n",
      "Epoch 11/50\n",
      "25/25 [==============================] - 0s 5ms/step - loss: 0.2036 - accuracy: 0.9327 - val_loss: 0.2223 - val_accuracy: 0.9188\n",
      "Epoch 12/50\n",
      "25/25 [==============================] - 0s 5ms/step - loss: 0.1604 - accuracy: 0.9492 - val_loss: 0.2138 - val_accuracy: 0.9188\n",
      "Epoch 13/50\n",
      "25/25 [==============================] - 0s 5ms/step - loss: 0.1656 - accuracy: 0.9403 - val_loss: 0.2086 - val_accuracy: 0.9188\n",
      "Epoch 14/50\n",
      "25/25 [==============================] - 0s 6ms/step - loss: 0.2086 - accuracy: 0.9301 - val_loss: 0.2090 - val_accuracy: 0.9188\n",
      "Epoch 15/50\n",
      "25/25 [==============================] - 0s 5ms/step - loss: 0.1531 - accuracy: 0.9416 - val_loss: 0.2013 - val_accuracy: 0.9188\n",
      "Epoch 16/50\n",
      "25/25 [==============================] - 0s 5ms/step - loss: 0.1534 - accuracy: 0.9441 - val_loss: 0.2026 - val_accuracy: 0.9188\n",
      "Epoch 17/50\n",
      "25/25 [==============================] - 0s 5ms/step - loss: 0.1797 - accuracy: 0.9314 - val_loss: 0.1959 - val_accuracy: 0.9239\n",
      "Epoch 18/50\n",
      "25/25 [==============================] - 0s 5ms/step - loss: 0.1773 - accuracy: 0.9339 - val_loss: 0.2017 - val_accuracy: 0.9239\n",
      "Epoch 19/50\n",
      "25/25 [==============================] - 0s 6ms/step - loss: 0.1745 - accuracy: 0.9327 - val_loss: 0.2036 - val_accuracy: 0.9188\n",
      "Epoch 20/50\n",
      "25/25 [==============================] - 0s 6ms/step - loss: 0.1654 - accuracy: 0.9403 - val_loss: 0.2034 - val_accuracy: 0.9188\n",
      "Epoch 21/50\n",
      "25/25 [==============================] - 0s 6ms/step - loss: 0.1458 - accuracy: 0.9454 - val_loss: 0.2080 - val_accuracy: 0.9137\n",
      "Epoch 22/50\n",
      "25/25 [==============================] - 0s 6ms/step - loss: 0.1637 - accuracy: 0.9492 - val_loss: 0.1947 - val_accuracy: 0.9239\n",
      "Epoch 23/50\n",
      "25/25 [==============================] - 0s 6ms/step - loss: 0.1649 - accuracy: 0.9352 - val_loss: 0.1952 - val_accuracy: 0.9188\n",
      "Epoch 24/50\n",
      "25/25 [==============================] - 0s 6ms/step - loss: 0.1441 - accuracy: 0.9441 - val_loss: 0.2157 - val_accuracy: 0.9137\n",
      "Epoch 25/50\n",
      "25/25 [==============================] - 0s 5ms/step - loss: 0.1347 - accuracy: 0.9530 - val_loss: 0.2001 - val_accuracy: 0.9188\n",
      "Epoch 26/50\n",
      "25/25 [==============================] - 0s 6ms/step - loss: 0.1510 - accuracy: 0.9441 - val_loss: 0.2073 - val_accuracy: 0.9188\n",
      "Epoch 27/50\n",
      "25/25 [==============================] - 0s 6ms/step - loss: 0.1474 - accuracy: 0.9504 - val_loss: 0.1984 - val_accuracy: 0.9188\n",
      "Epoch 28/50\n",
      "25/25 [==============================] - 0s 7ms/step - loss: 0.1444 - accuracy: 0.9492 - val_loss: 0.2181 - val_accuracy: 0.9188\n",
      "Epoch 29/50\n",
      "25/25 [==============================] - 0s 5ms/step - loss: 0.1398 - accuracy: 0.9416 - val_loss: 0.1905 - val_accuracy: 0.9188\n",
      "Epoch 30/50\n",
      "25/25 [==============================] - 0s 5ms/step - loss: 0.1295 - accuracy: 0.9530 - val_loss: 0.1934 - val_accuracy: 0.9188\n",
      "Epoch 31/50\n",
      "25/25 [==============================] - 0s 6ms/step - loss: 0.1255 - accuracy: 0.9530 - val_loss: 0.2030 - val_accuracy: 0.9188\n",
      "Epoch 32/50\n",
      "25/25 [==============================] - 0s 6ms/step - loss: 0.1341 - accuracy: 0.9466 - val_loss: 0.2003 - val_accuracy: 0.9188\n",
      "Epoch 33/50\n",
      "25/25 [==============================] - 0s 7ms/step - loss: 0.1383 - accuracy: 0.9441 - val_loss: 0.1959 - val_accuracy: 0.9086\n",
      "Epoch 34/50\n",
      "25/25 [==============================] - 0s 7ms/step - loss: 0.1427 - accuracy: 0.9517 - val_loss: 0.1868 - val_accuracy: 0.9086\n",
      "Epoch 35/50\n",
      "25/25 [==============================] - 0s 6ms/step - loss: 0.1179 - accuracy: 0.9593 - val_loss: 0.1889 - val_accuracy: 0.9137\n",
      "Epoch 36/50\n",
      "25/25 [==============================] - 0s 7ms/step - loss: 0.1283 - accuracy: 0.9581 - val_loss: 0.1907 - val_accuracy: 0.9137\n",
      "Epoch 37/50\n",
      "25/25 [==============================] - 0s 7ms/step - loss: 0.1296 - accuracy: 0.9479 - val_loss: 0.2100 - val_accuracy: 0.9137\n",
      "Epoch 38/50\n",
      "25/25 [==============================] - 0s 6ms/step - loss: 0.1197 - accuracy: 0.9644 - val_loss: 0.1918 - val_accuracy: 0.9188\n",
      "Epoch 39/50\n",
      "25/25 [==============================] - 0s 6ms/step - loss: 0.1257 - accuracy: 0.9593 - val_loss: 0.2003 - val_accuracy: 0.9188\n",
      "Epoch 40/50\n",
      "25/25 [==============================] - 0s 6ms/step - loss: 0.1273 - accuracy: 0.9581 - val_loss: 0.1878 - val_accuracy: 0.9188\n",
      "Epoch 41/50\n",
      "25/25 [==============================] - 0s 5ms/step - loss: 0.1313 - accuracy: 0.9504 - val_loss: 0.1920 - val_accuracy: 0.9188\n",
      "Epoch 42/50\n",
      "25/25 [==============================] - 0s 7ms/step - loss: 0.1297 - accuracy: 0.9504 - val_loss: 0.1906 - val_accuracy: 0.9137\n",
      "Epoch 43/50\n",
      "25/25 [==============================] - 0s 6ms/step - loss: 0.1170 - accuracy: 0.9530 - val_loss: 0.2042 - val_accuracy: 0.9188\n",
      "Epoch 44/50\n",
      "25/25 [==============================] - 0s 6ms/step - loss: 0.1354 - accuracy: 0.9530 - val_loss: 0.1915 - val_accuracy: 0.9188\n",
      "Epoch 45/50\n",
      "25/25 [==============================] - 0s 7ms/step - loss: 0.1142 - accuracy: 0.9593 - val_loss: 0.1926 - val_accuracy: 0.9137\n",
      "Epoch 46/50\n",
      "25/25 [==============================] - 0s 6ms/step - loss: 0.1206 - accuracy: 0.9517 - val_loss: 0.1916 - val_accuracy: 0.9188\n",
      "Epoch 47/50\n",
      "25/25 [==============================] - 0s 7ms/step - loss: 0.1137 - accuracy: 0.9619 - val_loss: 0.2025 - val_accuracy: 0.9239\n",
      "Epoch 48/50\n",
      "25/25 [==============================] - 0s 7ms/step - loss: 0.1335 - accuracy: 0.9530 - val_loss: 0.2084 - val_accuracy: 0.9239\n",
      "Epoch 49/50\n",
      "25/25 [==============================] - 0s 6ms/step - loss: 0.1123 - accuracy: 0.9695 - val_loss: 0.2172 - val_accuracy: 0.9188\n",
      "Epoch 50/50\n",
      "25/25 [==============================] - 0s 6ms/step - loss: 0.1124 - accuracy: 0.9606 - val_loss: 0.2139 - val_accuracy: 0.9086\n"
     ]
    }
   ],
   "source": [
    "epochs = 50\n",
    "model = Sequential()\n",
    "model.add(Conv1D(32,2,activation='relu', input_shape = x_train[0].shape))\n",
    "model.add(BatchNormalization())\n",
    "model.add(MaxPool1D(2))\n",
    "model.add(Dropout(0.2))\n",
    "\n",
    "model.add(Conv1D(64,2,activation='relu'))\n",
    "model.add(BatchNormalization())\n",
    "model.add(MaxPool1D(2))\n",
    "model.add(Dropout(0.5))\n",
    "\n",
    "model.add(Flatten())\n",
    "model.add(Dense(64, activation = 'relu'))\n",
    "model.add(Dropout(0.5))\n",
    "\n",
    "model.add(Dense(1,activation = 'sigmoid'))\n",
    "model.compile(optimizer = Adam(lr = 0.0001), loss = 'binary_crossentropy' , metrics=['accuracy'])\n",
    "history = model.fit(x_train , y_train , epochs = epochs , validation_data = (x_test , y_test) , verbose = 1)"
   ]
  },
  {
   "cell_type": "code",
   "execution_count": null,
   "id": "063f1d91",
   "metadata": {},
   "outputs": [],
   "source": []
  },
  {
   "cell_type": "code",
   "execution_count": null,
   "id": "c19073b7",
   "metadata": {},
   "outputs": [],
   "source": []
  },
  {
   "cell_type": "code",
   "execution_count": 30,
   "id": "76d67909",
   "metadata": {},
   "outputs": [
    {
     "data": {
      "image/png": "[encoded data removed]",
      "text/plain": [
       "<Figure size 640x480 with 1 Axes>"
      ]
     },
     "metadata": {},
     "output_type": "display_data"
    },
    {
     "data": {
      "image/png": "[encoded data removed]",
      "text/plain": [
       "<Figure size 640x480 with 1 Axes>"
      ]
     },
     "metadata": {},
     "output_type": "display_data"
    }
   ],
   "source": [
    "plot_lr(history,epochs)"
   ]
  },
  {
   "cell_type": "code",
   "execution_count": 31,
   "id": "a53c1f00",
   "metadata": {},
   "outputs": [
    {
     "name": "stdout",
     "output_type": "stream",
     "text": [
      "25/25 [==============================] - 0s 5ms/step - loss: 0.1389 - accuracy: 0.9479\n",
      "7/7 [==============================] - 0s 2ms/step\n"
     ]
    }
   ],
   "source": [
    "model.fit(x_train, y_train)\n",
    "y_pred = model.predict(x_test)\n",
    "y_prob = np.argmax(x_test, axis=1)"
   ]
  },
  {
   "cell_type": "code",
   "execution_count": 32,
   "id": "5e78ce64",
   "metadata": {},
   "outputs": [
    {
     "data": {
      "image/png": "[encoded data removed]",
      "text/plain": [
       "<Figure size 800x600 with 1 Axes>"
      ]
     },
     "metadata": {},
     "output_type": "display_data"
    }
   ],
   "source": [
    "from sklearn.metrics import roc_curve, roc_auc_score, auc\n",
    "\n",
    "# Calculate ROC curve\n",
    "fpr, tpr, thresholds = roc_curve(y_test, y_prob)\n",
    "# Calculate AUC (Area Under the Curve)\n",
    "roc_auc = auc(fpr, tpr)\n",
    "# Plot ROC curve\n",
    "plt.figure(figsize=(8, 6))\n",
    "plt.plot(fpr, tpr, color='darkorange', lw=2, label=f'ROC curve (AUC = {roc_auc:.2f})')\n",
    "plt.plot([0, 1], [0, 1], color='navy', lw=2, linestyle='--')\n",
    "plt.xlim([0.0, 1.0])\n",
    "plt.ylim([0.0, 1.05])\n",
    "plt.xlabel('False Positive Rate')\n",
    "plt.ylabel('True Positive Rate')\n",
    "plt.title('Receiver Operating Characteristic (ROC) Curve')\n",
    "plt.legend(loc='lower right')\n",
    "plt.show()"
   ]
  },
  {
   "cell_type": "code",
   "execution_count": null,
   "id": "320b1fba",
   "metadata": {},
   "outputs": [],
   "source": []
  },
  {
   "cell_type": "code",
   "execution_count": 33,
   "id": "4bc46b0d",
   "metadata": {},
   "outputs": [
    {
     "data": {
      "image/png": "[encoded data removed]",
      "text/plain": [
       "<Figure size 800x600 with 1 Axes>"
      ]
     },
     "metadata": {},
     "output_type": "display_data"
    }
   ],
   "source": [
    "from sklearn.metrics import precision_recall_curve, average_precision_score\n",
    "\n",
    "# Calculate Precision-Recall curve\n",
    "precision, recall, thresholds = precision_recall_curve(y_test, y_prob)\n",
    "# Calculate Average Precision (AP)\n",
    "average_precision = average_precision_score(y_test, y_prob)\n",
    "# Plot Precision-Recall curve\n",
    "plt.figure(figsize=(8, 6))\n",
    "plt.plot(recall, precision, color='darkorange', lw=2, label=f'Precision-Recall curve (AP = {average_precision:.2f})')\n",
    "plt.xlabel('Recall')\n",
    "plt.ylabel('Precision')\n",
    "plt.title('Precision-Recall Curve')\n",
    "plt.legend(loc='best')\n",
    "plt.show()"
   ]
  },
  {
   "cell_type": "code",
   "execution_count": null,
   "id": "0c793190",
   "metadata": {},
   "outputs": [],
   "source": []
  },
  {
   "cell_type": "code",
   "execution_count": 34,
   "id": "09fad1d1",
   "metadata": {},
   "outputs": [
    {
     "name": "stdout",
     "output_type": "stream",
     "text": [
      "7/7 [==============================] - 0s 2ms/step\n"
     ]
    },
    {
     "data": {
      "image/png": "[encoded data removed]",
      "text/plain": [
       "<Figure size 640x480 with 1 Axes>"
      ]
     },
     "metadata": {},
     "output_type": "display_data"
    }
   ],
   "source": [
    "from sklearn.metrics import confusion_matrix\n",
    "model_predictions = (model.predict(x_test) > 0.5).astype(\"int32\")\n",
    "confusion_matrix = confusion_matrix(y_test, model_predictions)\n",
    "sns.heatmap(confusion_matrix, annot=True, fmt=\"d\", cbar = False)\n",
    "plt.title(\"CNN Confusion Matrix\")\n",
    "plt.show()"
   ]
  },
  {
   "cell_type": "code",
   "execution_count": 35,
   "id": "9bce3d92",
   "metadata": {},
   "outputs": [
    {
     "data": {
      "text/plain": [
       "0.9086294416243654"
      ]
     },
     "execution_count": 35,
     "metadata": {},
     "output_type": "execute_result"
    }
   ],
   "source": [
    "from sklearn.metrics import accuracy_score\n",
    "accuracy_score(y_test, model_predictions)"
   ]
  },
  {
   "cell_type": "code",
   "execution_count": 36,
   "id": "84d1129b",
   "metadata": {},
   "outputs": [
    {
     "name": "stdout",
     "output_type": "stream",
     "text": [
      "precision: [0.86486486 0.96511628]\n",
      "recall: [0.96969697 0.84693878]\n",
      "fscore: [0.91428571 0.90217391]\n",
      "support: [99 98]\n"
     ]
    }
   ],
   "source": [
    "from sklearn.metrics import precision_recall_fscore_support as score\n",
    "precision, recall, fscore, support = score(y_test, model_predictions)\n",
    "print('precision: {}'.format(precision))\n",
    "print('recall: {}'.format(recall))\n",
    "print('fscore: {}'.format(fscore))\n",
    "print('support: {}'.format(support))"
   ]
  },
  {
   "cell_type": "code",
   "execution_count": null,
   "id": "f62cea7d",
   "metadata": {},
   "outputs": [],
   "source": []
  }
 ],
 "metadata": {
  "kernelspec": {
   "display_name": "Python 3 (ipykernel)",
   "language": "python",
   "name": "python3"
  },
  "language_info": {
   "codemirror_mode": {
    "name": "ipython",
    "version": 3
   },
   "file_extension": ".py",
   "mimetype": "text/x-python",
   "name": "python",
   "nbconvert_exporter": "python",
   "pygments_lexer": "ipython3",
   "version": "3.11.3"
  }
 },
 "nbformat": 4,
 "nbformat_minor": 5
}
