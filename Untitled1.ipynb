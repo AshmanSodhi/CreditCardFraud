{
 "cells": [
  {
   "cell_type": "code",
   "execution_count": 2,
   "id": "5c101cca",
   "metadata": {},
   "outputs": [],
   "source": [
    "import pandas as pd\n",
    "import numpy as np\n",
    "import seaborn as sns\n",
    "import matplotlib.pyplot as plt\n",
    "from sklearn.model_selection import train_test_split\n",
    "from sklearn.preprocessing import StandardScaler"
   ]
  },
  {
   "cell_type": "code",
   "execution_count": 4,
   "id": "376d6dc4",
   "metadata": {},
   "outputs": [
    {
     "data": {
      "text/html": [
       "<div>\n",
       "<style scoped>\n",
       "    .dataframe tbody tr th:only-of-type {\n",
       "        vertical-align: middle;\n",
       "    }\n",
       "\n",
       "    .dataframe tbody tr th {\n",
       "        vertical-align: top;\n",
       "    }\n",
       "\n",
       "    .dataframe thead th {\n",
       "        text-align: right;\n",
       "    }\n",
       "</style>\n",
       "<table border=\"1\" class=\"dataframe\">\n",
       "  <thead>\n",
       "    <tr style=\"text-align: right;\">\n",
       "      <th></th>\n",
       "      <th>Time</th>\n",
       "      <th>V1</th>\n",
       "      <th>V2</th>\n",
       "      <th>V3</th>\n",
       "      <th>V4</th>\n",
       "      <th>V5</th>\n",
       "      <th>V6</th>\n",
       "      <th>V7</th>\n",
       "      <th>V8</th>\n",
       "      <th>V9</th>\n",
       "      <th>...</th>\n",
       "      <th>V21</th>\n",
       "      <th>V22</th>\n",
       "      <th>V23</th>\n",
       "      <th>V24</th>\n",
       "      <th>V25</th>\n",
       "      <th>V26</th>\n",
       "      <th>V27</th>\n",
       "      <th>V28</th>\n",
       "      <th>Amount</th>\n",
       "      <th>Class</th>\n",
       "    </tr>\n",
       "  </thead>\n",
       "  <tbody>\n",
       "    <tr>\n",
       "      <th>0</th>\n",
       "      <td>0.0</td>\n",
       "      <td>-1.359807</td>\n",
       "      <td>-0.072781</td>\n",
       "      <td>2.536347</td>\n",
       "      <td>1.378155</td>\n",
       "      <td>-0.338321</td>\n",
       "      <td>0.462388</td>\n",
       "      <td>0.239599</td>\n",
       "      <td>0.098698</td>\n",
       "      <td>0.363787</td>\n",
       "      <td>...</td>\n",
       "      <td>-0.018307</td>\n",
       "      <td>0.277838</td>\n",
       "      <td>-0.110474</td>\n",
       "      <td>0.066928</td>\n",
       "      <td>0.128539</td>\n",
       "      <td>-0.189115</td>\n",
       "      <td>0.133558</td>\n",
       "      <td>-0.021053</td>\n",
       "      <td>149.62</td>\n",
       "      <td>0</td>\n",
       "    </tr>\n",
       "    <tr>\n",
       "      <th>1</th>\n",
       "      <td>0.0</td>\n",
       "      <td>1.191857</td>\n",
       "      <td>0.266151</td>\n",
       "      <td>0.166480</td>\n",
       "      <td>0.448154</td>\n",
       "      <td>0.060018</td>\n",
       "      <td>-0.082361</td>\n",
       "      <td>-0.078803</td>\n",
       "      <td>0.085102</td>\n",
       "      <td>-0.255425</td>\n",
       "      <td>...</td>\n",
       "      <td>-0.225775</td>\n",
       "      <td>-0.638672</td>\n",
       "      <td>0.101288</td>\n",
       "      <td>-0.339846</td>\n",
       "      <td>0.167170</td>\n",
       "      <td>0.125895</td>\n",
       "      <td>-0.008983</td>\n",
       "      <td>0.014724</td>\n",
       "      <td>2.69</td>\n",
       "      <td>0</td>\n",
       "    </tr>\n",
       "    <tr>\n",
       "      <th>2</th>\n",
       "      <td>1.0</td>\n",
       "      <td>-1.358354</td>\n",
       "      <td>-1.340163</td>\n",
       "      <td>1.773209</td>\n",
       "      <td>0.379780</td>\n",
       "      <td>-0.503198</td>\n",
       "      <td>1.800499</td>\n",
       "      <td>0.791461</td>\n",
       "      <td>0.247676</td>\n",
       "      <td>-1.514654</td>\n",
       "      <td>...</td>\n",
       "      <td>0.247998</td>\n",
       "      <td>0.771679</td>\n",
       "      <td>0.909412</td>\n",
       "      <td>-0.689281</td>\n",
       "      <td>-0.327642</td>\n",
       "      <td>-0.139097</td>\n",
       "      <td>-0.055353</td>\n",
       "      <td>-0.059752</td>\n",
       "      <td>378.66</td>\n",
       "      <td>0</td>\n",
       "    </tr>\n",
       "    <tr>\n",
       "      <th>3</th>\n",
       "      <td>1.0</td>\n",
       "      <td>-0.966272</td>\n",
       "      <td>-0.185226</td>\n",
       "      <td>1.792993</td>\n",
       "      <td>-0.863291</td>\n",
       "      <td>-0.010309</td>\n",
       "      <td>1.247203</td>\n",
       "      <td>0.237609</td>\n",
       "      <td>0.377436</td>\n",
       "      <td>-1.387024</td>\n",
       "      <td>...</td>\n",
       "      <td>-0.108300</td>\n",
       "      <td>0.005274</td>\n",
       "      <td>-0.190321</td>\n",
       "      <td>-1.175575</td>\n",
       "      <td>0.647376</td>\n",
       "      <td>-0.221929</td>\n",
       "      <td>0.062723</td>\n",
       "      <td>0.061458</td>\n",
       "      <td>123.50</td>\n",
       "      <td>0</td>\n",
       "    </tr>\n",
       "    <tr>\n",
       "      <th>4</th>\n",
       "      <td>2.0</td>\n",
       "      <td>-1.158233</td>\n",
       "      <td>0.877737</td>\n",
       "      <td>1.548718</td>\n",
       "      <td>0.403034</td>\n",
       "      <td>-0.407193</td>\n",
       "      <td>0.095921</td>\n",
       "      <td>0.592941</td>\n",
       "      <td>-0.270533</td>\n",
       "      <td>0.817739</td>\n",
       "      <td>...</td>\n",
       "      <td>-0.009431</td>\n",
       "      <td>0.798278</td>\n",
       "      <td>-0.137458</td>\n",
       "      <td>0.141267</td>\n",
       "      <td>-0.206010</td>\n",
       "      <td>0.502292</td>\n",
       "      <td>0.219422</td>\n",
       "      <td>0.215153</td>\n",
       "      <td>69.99</td>\n",
       "      <td>0</td>\n",
       "    </tr>\n",
       "  </tbody>\n",
       "</table>\n",
       "<p>5 rows × 31 columns</p>\n",
       "</div>"
      ],
      "text/plain": [
       "   Time        V1        V2        V3        V4        V5        V6        V7   \n",
       "0   0.0 -1.359807 -0.072781  2.536347  1.378155 -0.338321  0.462388  0.239599  \\\n",
       "1   0.0  1.191857  0.266151  0.166480  0.448154  0.060018 -0.082361 -0.078803   \n",
       "2   1.0 -1.358354 -1.340163  1.773209  0.379780 -0.503198  1.800499  0.791461   \n",
       "3   1.0 -0.966272 -0.185226  1.792993 -0.863291 -0.010309  1.247203  0.237609   \n",
       "4   2.0 -1.158233  0.877737  1.548718  0.403034 -0.407193  0.095921  0.592941   \n",
       "\n",
       "         V8        V9  ...       V21       V22       V23       V24       V25   \n",
       "0  0.098698  0.363787  ... -0.018307  0.277838 -0.110474  0.066928  0.128539  \\\n",
       "1  0.085102 -0.255425  ... -0.225775 -0.638672  0.101288 -0.339846  0.167170   \n",
       "2  0.247676 -1.514654  ...  0.247998  0.771679  0.909412 -0.689281 -0.327642   \n",
       "3  0.377436 -1.387024  ... -0.108300  0.005274 -0.190321 -1.175575  0.647376   \n",
       "4 -0.270533  0.817739  ... -0.009431  0.798278 -0.137458  0.141267 -0.206010   \n",
       "\n",
       "        V26       V27       V28  Amount  Class  \n",
       "0 -0.189115  0.133558 -0.021053  149.62      0  \n",
       "1  0.125895 -0.008983  0.014724    2.69      0  \n",
       "2 -0.139097 -0.055353 -0.059752  378.66      0  \n",
       "3 -0.221929  0.062723  0.061458  123.50      0  \n",
       "4  0.502292  0.219422  0.215153   69.99      0  \n",
       "\n",
       "[5 rows x 31 columns]"
      ]
     },
     "execution_count": 4,
     "metadata": {},
     "output_type": "execute_result"
    }
   ],
   "source": [
    "data = pd.read_csv('creditcard.csv')\n",
    "data.head()"
   ]
  },
  {
   "cell_type": "code",
   "execution_count": 5,
   "id": "e76fb8ef",
   "metadata": {},
   "outputs": [
    {
     "data": {
      "text/plain": [
       "(284807, 31)"
      ]
     },
     "execution_count": 5,
     "metadata": {},
     "output_type": "execute_result"
    }
   ],
   "source": [
    "data.shape"
   ]
  },
  {
   "cell_type": "code",
   "execution_count": 6,
   "id": "9a0c504c",
   "metadata": {},
   "outputs": [
    {
     "data": {
      "text/plain": [
       "Time      0\n",
       "V1        0\n",
       "V2        0\n",
       "V3        0\n",
       "V4        0\n",
       "V5        0\n",
       "V6        0\n",
       "V7        0\n",
       "V8        0\n",
       "V9        0\n",
       "V10       0\n",
       "V11       0\n",
       "V12       0\n",
       "V13       0\n",
       "V14       0\n",
       "V15       0\n",
       "V16       0\n",
       "V17       0\n",
       "V18       0\n",
       "V19       0\n",
       "V20       0\n",
       "V21       0\n",
       "V22       0\n",
       "V23       0\n",
       "V24       0\n",
       "V25       0\n",
       "V26       0\n",
       "V27       0\n",
       "V28       0\n",
       "Amount    0\n",
       "Class     0\n",
       "dtype: int64"
      ]
     },
     "execution_count": 6,
     "metadata": {},
     "output_type": "execute_result"
    }
   ],
   "source": [
    "data.isnull().sum()"
   ]
  },
  {
   "cell_type": "code",
   "execution_count": 7,
   "id": "aa61fb58",
   "metadata": {},
   "outputs": [
    {
     "name": "stdout",
     "output_type": "stream",
     "text": [
      "<class 'pandas.core.frame.DataFrame'>\n",
      "RangeIndex: 284807 entries, 0 to 284806\n",
      "Data columns (total 31 columns):\n",
      " #   Column  Non-Null Count   Dtype  \n",
      "---  ------  --------------   -----  \n",
      " 0   Time    284807 non-null  float64\n",
      " 1   V1      284807 non-null  float64\n",
      " 2   V2      284807 non-null  float64\n",
      " 3   V3      284807 non-null  float64\n",
      " 4   V4      284807 non-null  float64\n",
      " 5   V5      284807 non-null  float64\n",
      " 6   V6      284807 non-null  float64\n",
      " 7   V7      284807 non-null  float64\n",
      " 8   V8      284807 non-null  float64\n",
      " 9   V9      284807 non-null  float64\n",
      " 10  V10     284807 non-null  float64\n",
      " 11  V11     284807 non-null  float64\n",
      " 12  V12     284807 non-null  float64\n",
      " 13  V13     284807 non-null  float64\n",
      " 14  V14     284807 non-null  float64\n",
      " 15  V15     284807 non-null  float64\n",
      " 16  V16     284807 non-null  float64\n",
      " 17  V17     284807 non-null  float64\n",
      " 18  V18     284807 non-null  float64\n",
      " 19  V19     284807 non-null  float64\n",
      " 20  V20     284807 non-null  float64\n",
      " 21  V21     284807 non-null  float64\n",
      " 22  V22     284807 non-null  float64\n",
      " 23  V23     284807 non-null  float64\n",
      " 24  V24     284807 non-null  float64\n",
      " 25  V25     284807 non-null  float64\n",
      " 26  V26     284807 non-null  float64\n",
      " 27  V27     284807 non-null  float64\n",
      " 28  V28     284807 non-null  float64\n",
      " 29  Amount  284807 non-null  float64\n",
      " 30  Class   284807 non-null  int64  \n",
      "dtypes: float64(30), int64(1)\n",
      "memory usage: 67.4 MB\n"
     ]
    }
   ],
   "source": [
    "data.info()"
   ]
  },
  {
   "cell_type": "code",
   "execution_count": 8,
   "id": "f69922a8",
   "metadata": {},
   "outputs": [
    {
     "data": {
      "text/plain": [
       "Class\n",
       "0    284315\n",
       "1       492\n",
       "Name: count, dtype: int64"
      ]
     },
     "execution_count": 8,
     "metadata": {},
     "output_type": "execute_result"
    }
   ],
   "source": [
    "data['Class'].value_counts()"
   ]
  },
  {
   "cell_type": "code",
   "execution_count": 9,
   "id": "8254e1e5",
   "metadata": {},
   "outputs": [],
   "source": [
    "##Balancing DataSet"
   ]
  },
  {
   "cell_type": "code",
   "execution_count": 15,
   "id": "a6ed05ff",
   "metadata": {},
   "outputs": [],
   "source": [
    "non_fraud = data[data['Class']==0]\n",
    "fraud = data[data['Class'] == 1]"
   ]
  },
  {
   "cell_type": "code",
   "execution_count": 16,
   "id": "74ce35db",
   "metadata": {},
   "outputs": [
    {
     "data": {
      "text/plain": [
       "((284315, 31), (492, 31))"
      ]
     },
     "execution_count": 16,
     "metadata": {},
     "output_type": "execute_result"
    }
   ],
   "source": [
    "non_fraud.shape , fraud.shape"
   ]
  },
  {
   "cell_type": "code",
   "execution_count": 18,
   "id": "611e7199",
   "metadata": {},
   "outputs": [
    {
     "data": {
      "text/plain": [
       "(492, 31)"
      ]
     },
     "execution_count": 18,
     "metadata": {},
     "output_type": "execute_result"
    }
   ],
   "source": [
    "non_fraud = non_fraud.sample(fraud.shape[0])\n",
    "non_fraud.shape"
   ]
  },
  {
   "cell_type": "code",
   "execution_count": 21,
   "id": "df99f44c",
   "metadata": {},
   "outputs": [
    {
     "data": {
      "text/html": [
       "<div>\n",
       "<style scoped>\n",
       "    .dataframe tbody tr th:only-of-type {\n",
       "        vertical-align: middle;\n",
       "    }\n",
       "\n",
       "    .dataframe tbody tr th {\n",
       "        vertical-align: top;\n",
       "    }\n",
       "\n",
       "    .dataframe thead th {\n",
       "        text-align: right;\n",
       "    }\n",
       "</style>\n",
       "<table border=\"1\" class=\"dataframe\">\n",
       "  <thead>\n",
       "    <tr style=\"text-align: right;\">\n",
       "      <th></th>\n",
       "      <th>Time</th>\n",
       "      <th>V1</th>\n",
       "      <th>V2</th>\n",
       "      <th>V3</th>\n",
       "      <th>V4</th>\n",
       "      <th>V5</th>\n",
       "      <th>V6</th>\n",
       "      <th>V7</th>\n",
       "      <th>V8</th>\n",
       "      <th>V9</th>\n",
       "      <th>...</th>\n",
       "      <th>V21</th>\n",
       "      <th>V22</th>\n",
       "      <th>V23</th>\n",
       "      <th>V24</th>\n",
       "      <th>V25</th>\n",
       "      <th>V26</th>\n",
       "      <th>V27</th>\n",
       "      <th>V28</th>\n",
       "      <th>Amount</th>\n",
       "      <th>Class</th>\n",
       "    </tr>\n",
       "  </thead>\n",
       "  <tbody>\n",
       "    <tr>\n",
       "      <th>0</th>\n",
       "      <td>406.0</td>\n",
       "      <td>-2.312227</td>\n",
       "      <td>1.951992</td>\n",
       "      <td>-1.609851</td>\n",
       "      <td>3.997906</td>\n",
       "      <td>-0.522188</td>\n",
       "      <td>-1.426545</td>\n",
       "      <td>-2.537387</td>\n",
       "      <td>1.391657</td>\n",
       "      <td>-2.770089</td>\n",
       "      <td>...</td>\n",
       "      <td>0.517232</td>\n",
       "      <td>-0.035049</td>\n",
       "      <td>-0.465211</td>\n",
       "      <td>0.320198</td>\n",
       "      <td>0.044519</td>\n",
       "      <td>0.177840</td>\n",
       "      <td>0.261145</td>\n",
       "      <td>-0.143276</td>\n",
       "      <td>0.00</td>\n",
       "      <td>1</td>\n",
       "    </tr>\n",
       "    <tr>\n",
       "      <th>1</th>\n",
       "      <td>472.0</td>\n",
       "      <td>-3.043541</td>\n",
       "      <td>-3.157307</td>\n",
       "      <td>1.088463</td>\n",
       "      <td>2.288644</td>\n",
       "      <td>1.359805</td>\n",
       "      <td>-1.064823</td>\n",
       "      <td>0.325574</td>\n",
       "      <td>-0.067794</td>\n",
       "      <td>-0.270953</td>\n",
       "      <td>...</td>\n",
       "      <td>0.661696</td>\n",
       "      <td>0.435477</td>\n",
       "      <td>1.375966</td>\n",
       "      <td>-0.293803</td>\n",
       "      <td>0.279798</td>\n",
       "      <td>-0.145362</td>\n",
       "      <td>-0.252773</td>\n",
       "      <td>0.035764</td>\n",
       "      <td>529.00</td>\n",
       "      <td>1</td>\n",
       "    </tr>\n",
       "    <tr>\n",
       "      <th>2</th>\n",
       "      <td>4462.0</td>\n",
       "      <td>-2.303350</td>\n",
       "      <td>1.759247</td>\n",
       "      <td>-0.359745</td>\n",
       "      <td>2.330243</td>\n",
       "      <td>-0.821628</td>\n",
       "      <td>-0.075788</td>\n",
       "      <td>0.562320</td>\n",
       "      <td>-0.399147</td>\n",
       "      <td>-0.238253</td>\n",
       "      <td>...</td>\n",
       "      <td>-0.294166</td>\n",
       "      <td>-0.932391</td>\n",
       "      <td>0.172726</td>\n",
       "      <td>-0.087330</td>\n",
       "      <td>-0.156114</td>\n",
       "      <td>-0.542628</td>\n",
       "      <td>0.039566</td>\n",
       "      <td>-0.153029</td>\n",
       "      <td>239.93</td>\n",
       "      <td>1</td>\n",
       "    </tr>\n",
       "    <tr>\n",
       "      <th>3</th>\n",
       "      <td>6986.0</td>\n",
       "      <td>-4.397974</td>\n",
       "      <td>1.358367</td>\n",
       "      <td>-2.592844</td>\n",
       "      <td>2.679787</td>\n",
       "      <td>-1.128131</td>\n",
       "      <td>-1.706536</td>\n",
       "      <td>-3.496197</td>\n",
       "      <td>-0.248778</td>\n",
       "      <td>-0.247768</td>\n",
       "      <td>...</td>\n",
       "      <td>0.573574</td>\n",
       "      <td>0.176968</td>\n",
       "      <td>-0.436207</td>\n",
       "      <td>-0.053502</td>\n",
       "      <td>0.252405</td>\n",
       "      <td>-0.657488</td>\n",
       "      <td>-0.827136</td>\n",
       "      <td>0.849573</td>\n",
       "      <td>59.00</td>\n",
       "      <td>1</td>\n",
       "    </tr>\n",
       "    <tr>\n",
       "      <th>4</th>\n",
       "      <td>7519.0</td>\n",
       "      <td>1.234235</td>\n",
       "      <td>3.019740</td>\n",
       "      <td>-4.304597</td>\n",
       "      <td>4.732795</td>\n",
       "      <td>3.624201</td>\n",
       "      <td>-1.357746</td>\n",
       "      <td>1.713445</td>\n",
       "      <td>-0.496358</td>\n",
       "      <td>-1.282858</td>\n",
       "      <td>...</td>\n",
       "      <td>-0.379068</td>\n",
       "      <td>-0.704181</td>\n",
       "      <td>-0.656805</td>\n",
       "      <td>-1.632653</td>\n",
       "      <td>1.488901</td>\n",
       "      <td>0.566797</td>\n",
       "      <td>-0.010016</td>\n",
       "      <td>0.146793</td>\n",
       "      <td>1.00</td>\n",
       "      <td>1</td>\n",
       "    </tr>\n",
       "    <tr>\n",
       "      <th>...</th>\n",
       "      <td>...</td>\n",
       "      <td>...</td>\n",
       "      <td>...</td>\n",
       "      <td>...</td>\n",
       "      <td>...</td>\n",
       "      <td>...</td>\n",
       "      <td>...</td>\n",
       "      <td>...</td>\n",
       "      <td>...</td>\n",
       "      <td>...</td>\n",
       "      <td>...</td>\n",
       "      <td>...</td>\n",
       "      <td>...</td>\n",
       "      <td>...</td>\n",
       "      <td>...</td>\n",
       "      <td>...</td>\n",
       "      <td>...</td>\n",
       "      <td>...</td>\n",
       "      <td>...</td>\n",
       "      <td>...</td>\n",
       "      <td>...</td>\n",
       "    </tr>\n",
       "    <tr>\n",
       "      <th>979</th>\n",
       "      <td>38252.0</td>\n",
       "      <td>0.949413</td>\n",
       "      <td>0.363857</td>\n",
       "      <td>0.675398</td>\n",
       "      <td>2.144255</td>\n",
       "      <td>0.671748</td>\n",
       "      <td>1.836297</td>\n",
       "      <td>-0.295001</td>\n",
       "      <td>0.632917</td>\n",
       "      <td>-1.049697</td>\n",
       "      <td>...</td>\n",
       "      <td>-0.073285</td>\n",
       "      <td>-0.171436</td>\n",
       "      <td>0.254570</td>\n",
       "      <td>-1.058196</td>\n",
       "      <td>-0.089313</td>\n",
       "      <td>-0.156092</td>\n",
       "      <td>0.061730</td>\n",
       "      <td>0.004905</td>\n",
       "      <td>6.53</td>\n",
       "      <td>0</td>\n",
       "    </tr>\n",
       "    <tr>\n",
       "      <th>980</th>\n",
       "      <td>57592.0</td>\n",
       "      <td>-0.714619</td>\n",
       "      <td>0.709652</td>\n",
       "      <td>1.688902</td>\n",
       "      <td>1.285332</td>\n",
       "      <td>-0.565190</td>\n",
       "      <td>-0.061274</td>\n",
       "      <td>0.095205</td>\n",
       "      <td>0.228292</td>\n",
       "      <td>0.230686</td>\n",
       "      <td>...</td>\n",
       "      <td>0.045457</td>\n",
       "      <td>0.427437</td>\n",
       "      <td>-0.228664</td>\n",
       "      <td>0.439166</td>\n",
       "      <td>0.168230</td>\n",
       "      <td>-0.258091</td>\n",
       "      <td>-0.306480</td>\n",
       "      <td>-0.288111</td>\n",
       "      <td>38.43</td>\n",
       "      <td>0</td>\n",
       "    </tr>\n",
       "    <tr>\n",
       "      <th>981</th>\n",
       "      <td>85536.0</td>\n",
       "      <td>-1.929567</td>\n",
       "      <td>1.838581</td>\n",
       "      <td>0.152763</td>\n",
       "      <td>-1.206985</td>\n",
       "      <td>-1.387837</td>\n",
       "      <td>-1.315957</td>\n",
       "      <td>-0.651707</td>\n",
       "      <td>1.277827</td>\n",
       "      <td>0.184829</td>\n",
       "      <td>...</td>\n",
       "      <td>-0.031764</td>\n",
       "      <td>-0.410448</td>\n",
       "      <td>0.168628</td>\n",
       "      <td>0.390459</td>\n",
       "      <td>-0.124338</td>\n",
       "      <td>0.729124</td>\n",
       "      <td>-0.131135</td>\n",
       "      <td>-0.005872</td>\n",
       "      <td>0.77</td>\n",
       "      <td>0</td>\n",
       "    </tr>\n",
       "    <tr>\n",
       "      <th>982</th>\n",
       "      <td>121577.0</td>\n",
       "      <td>1.794583</td>\n",
       "      <td>-2.095034</td>\n",
       "      <td>0.593262</td>\n",
       "      <td>-0.377728</td>\n",
       "      <td>-2.208423</td>\n",
       "      <td>0.868964</td>\n",
       "      <td>-2.099224</td>\n",
       "      <td>0.507813</td>\n",
       "      <td>1.565751</td>\n",
       "      <td>...</td>\n",
       "      <td>0.378485</td>\n",
       "      <td>1.226183</td>\n",
       "      <td>-0.020936</td>\n",
       "      <td>-0.281144</td>\n",
       "      <td>-0.311604</td>\n",
       "      <td>0.013380</td>\n",
       "      <td>0.060661</td>\n",
       "      <td>-0.027924</td>\n",
       "      <td>130.00</td>\n",
       "      <td>0</td>\n",
       "    </tr>\n",
       "    <tr>\n",
       "      <th>983</th>\n",
       "      <td>49070.0</td>\n",
       "      <td>-0.910585</td>\n",
       "      <td>-4.294699</td>\n",
       "      <td>-1.042341</td>\n",
       "      <td>0.579569</td>\n",
       "      <td>-2.376870</td>\n",
       "      <td>-0.999238</td>\n",
       "      <td>1.240901</td>\n",
       "      <td>-0.574747</td>\n",
       "      <td>-0.764972</td>\n",
       "      <td>...</td>\n",
       "      <td>0.893085</td>\n",
       "      <td>-0.131533</td>\n",
       "      <td>-1.133098</td>\n",
       "      <td>1.012835</td>\n",
       "      <td>0.243418</td>\n",
       "      <td>-0.221579</td>\n",
       "      <td>-0.240656</td>\n",
       "      <td>0.214064</td>\n",
       "      <td>1200.00</td>\n",
       "      <td>0</td>\n",
       "    </tr>\n",
       "  </tbody>\n",
       "</table>\n",
       "<p>984 rows × 31 columns</p>\n",
       "</div>"
      ],
      "text/plain": [
       "         Time        V1        V2        V3        V4        V5        V6   \n",
       "0       406.0 -2.312227  1.951992 -1.609851  3.997906 -0.522188 -1.426545  \\\n",
       "1       472.0 -3.043541 -3.157307  1.088463  2.288644  1.359805 -1.064823   \n",
       "2      4462.0 -2.303350  1.759247 -0.359745  2.330243 -0.821628 -0.075788   \n",
       "3      6986.0 -4.397974  1.358367 -2.592844  2.679787 -1.128131 -1.706536   \n",
       "4      7519.0  1.234235  3.019740 -4.304597  4.732795  3.624201 -1.357746   \n",
       "..        ...       ...       ...       ...       ...       ...       ...   \n",
       "979   38252.0  0.949413  0.363857  0.675398  2.144255  0.671748  1.836297   \n",
       "980   57592.0 -0.714619  0.709652  1.688902  1.285332 -0.565190 -0.061274   \n",
       "981   85536.0 -1.929567  1.838581  0.152763 -1.206985 -1.387837 -1.315957   \n",
       "982  121577.0  1.794583 -2.095034  0.593262 -0.377728 -2.208423  0.868964   \n",
       "983   49070.0 -0.910585 -4.294699 -1.042341  0.579569 -2.376870 -0.999238   \n",
       "\n",
       "           V7        V8        V9  ...       V21       V22       V23   \n",
       "0   -2.537387  1.391657 -2.770089  ...  0.517232 -0.035049 -0.465211  \\\n",
       "1    0.325574 -0.067794 -0.270953  ...  0.661696  0.435477  1.375966   \n",
       "2    0.562320 -0.399147 -0.238253  ... -0.294166 -0.932391  0.172726   \n",
       "3   -3.496197 -0.248778 -0.247768  ...  0.573574  0.176968 -0.436207   \n",
       "4    1.713445 -0.496358 -1.282858  ... -0.379068 -0.704181 -0.656805   \n",
       "..        ...       ...       ...  ...       ...       ...       ...   \n",
       "979 -0.295001  0.632917 -1.049697  ... -0.073285 -0.171436  0.254570   \n",
       "980  0.095205  0.228292  0.230686  ...  0.045457  0.427437 -0.228664   \n",
       "981 -0.651707  1.277827  0.184829  ... -0.031764 -0.410448  0.168628   \n",
       "982 -2.099224  0.507813  1.565751  ...  0.378485  1.226183 -0.020936   \n",
       "983  1.240901 -0.574747 -0.764972  ...  0.893085 -0.131533 -1.133098   \n",
       "\n",
       "          V24       V25       V26       V27       V28   Amount  Class  \n",
       "0    0.320198  0.044519  0.177840  0.261145 -0.143276     0.00      1  \n",
       "1   -0.293803  0.279798 -0.145362 -0.252773  0.035764   529.00      1  \n",
       "2   -0.087330 -0.156114 -0.542628  0.039566 -0.153029   239.93      1  \n",
       "3   -0.053502  0.252405 -0.657488 -0.827136  0.849573    59.00      1  \n",
       "4   -1.632653  1.488901  0.566797 -0.010016  0.146793     1.00      1  \n",
       "..        ...       ...       ...       ...       ...      ...    ...  \n",
       "979 -1.058196 -0.089313 -0.156092  0.061730  0.004905     6.53      0  \n",
       "980  0.439166  0.168230 -0.258091 -0.306480 -0.288111    38.43      0  \n",
       "981  0.390459 -0.124338  0.729124 -0.131135 -0.005872     0.77      0  \n",
       "982 -0.281144 -0.311604  0.013380  0.060661 -0.027924   130.00      0  \n",
       "983  1.012835  0.243418 -0.221579 -0.240656  0.214064  1200.00      0  \n",
       "\n",
       "[984 rows x 31 columns]"
      ]
     },
     "execution_count": 21,
     "metadata": {},
     "output_type": "execute_result"
    }
   ],
   "source": [
    "data = fraud._append(non_fraud , ignore_index = True)\n",
    "data"
   ]
  },
  {
   "cell_type": "code",
   "execution_count": 22,
   "id": "08b18229",
   "metadata": {},
   "outputs": [
    {
     "data": {
      "text/plain": [
       "Class\n",
       "1    492\n",
       "0    492\n",
       "Name: count, dtype: int64"
      ]
     },
     "execution_count": 22,
     "metadata": {},
     "output_type": "execute_result"
    }
   ],
   "source": [
    "data['Class'].value_counts()"
   ]
  },
  {
   "cell_type": "code",
   "execution_count": 24,
   "id": "61ff8874",
   "metadata": {},
   "outputs": [],
   "source": [
    "x = data.drop('Class' , axis = 1)\n",
    "y = data['Class']"
   ]
  },
  {
   "cell_type": "code",
   "execution_count": 25,
   "id": "6aab5067",
   "metadata": {},
   "outputs": [],
   "source": [
    "x_train , x_test , y_train , y_test = train_test_split(x,y,test_size = 0.2 , random_state = 0 , stratify = y) "
   ]
  },
  {
   "cell_type": "code",
   "execution_count": 28,
   "id": "5652d1b8",
   "metadata": {},
   "outputs": [
    {
     "data": {
      "text/plain": [
       "((787, 30), (197, 30))"
      ]
     },
     "execution_count": 28,
     "metadata": {},
     "output_type": "execute_result"
    }
   ],
   "source": [
    "x_train.shape , x_test.shape"
   ]
  },
  {
   "cell_type": "code",
   "execution_count": 30,
   "id": "16252490",
   "metadata": {},
   "outputs": [],
   "source": [
    "scaler = StandardScaler()\n",
    "x_train = scaler.fit_transform(x_train)\n",
    "x_test = scaler.fit_transform(x_test)"
   ]
  },
  {
   "cell_type": "code",
   "execution_count": 32,
   "id": "bd25b65d",
   "metadata": {},
   "outputs": [],
   "source": [
    "y_train = y_train.to_numpy()\n",
    "y_test = y_test.to_numpy()"
   ]
  },
  {
   "cell_type": "code",
   "execution_count": 33,
   "id": "f40a46f4",
   "metadata": {},
   "outputs": [
    {
     "data": {
      "text/plain": [
       "(787, 30)"
      ]
     },
     "execution_count": 33,
     "metadata": {},
     "output_type": "execute_result"
    }
   ],
   "source": [
    "x_train.shape"
   ]
  },
  {
   "cell_type": "code",
   "execution_count": 34,
   "id": "f35abebb",
   "metadata": {},
   "outputs": [],
   "source": [
    "x_train = x_train.reshape(x_train.shape[0] , x_train.shape[1] , 1)\n",
    "x_test = x_test.reshape(x_test.shape[0] , x_test.shape[1] , 1)"
   ]
  },
  {
   "cell_type": "code",
   "execution_count": 35,
   "id": "78ee695c",
   "metadata": {},
   "outputs": [
    {
     "data": {
      "text/plain": [
       "((787, 30, 1), (197, 30, 1))"
      ]
     },
     "execution_count": 35,
     "metadata": {},
     "output_type": "execute_result"
    }
   ],
   "source": [
    "x_train.shape , x_test.shape"
   ]
  },
  {
   "cell_type": "code",
   "execution_count": null,
   "id": "4f8a26d4",
   "metadata": {},
   "outputs": [],
   "source": []
  },
  {
   "cell_type": "markdown",
   "id": "5d9a6405",
   "metadata": {},
   "source": [
    "CNN"
   ]
  },
  {
   "cell_type": "code",
   "execution_count": 39,
   "id": "bf463bfe",
   "metadata": {},
   "outputs": [],
   "source": [
    "import tensorflow as tf\n",
    "from tensorflow import keras\n",
    "from tensorflow.keras import Sequential\n",
    "from tensorflow.keras.layers import Flatten,Dense,Dropout,BatchNormalization\n",
    "from tensorflow.keras.layers import Conv1D , MaxPool1D\n"
   ]
  },
  {
   "cell_type": "code",
   "execution_count": 42,
   "id": "aed1e75d",
   "metadata": {},
   "outputs": [],
   "source": [
    "epochs = 20\n",
    "model = Sequential()\n",
    "model.add(Conv1D(32,2,activation='relu', input_shape = x_train[0].shape))\n",
    "model.add(BatchNormalization())\n",
    "model.add(Dropout(0.2))\n",
    "\n",
    "model.add(Conv1D(64,2,activation='relu'))\n",
    "model.add(BatchNormalization())\n",
    "model.add(Dropout(0.5))\n",
    "\n",
    "model.add(Flatten())\n",
    "model.add(Dense(64, activation = 'relu'))\n",
    "model.add(Dropout(0.5))\n",
    "\n",
    "model.add(Dense(1,activation = 'sigmoid'))"
   ]
  },
  {
   "cell_type": "code",
   "execution_count": 43,
   "id": "140cf8da",
   "metadata": {},
   "outputs": [
    {
     "name": "stdout",
     "output_type": "stream",
     "text": [
      "Model: \"sequential_2\"\n",
      "_________________________________________________________________\n",
      " Layer (type)                Output Shape              Param #   \n",
      "=================================================================\n",
      " conv1d (Conv1D)             (None, 29, 32)            96        \n",
      "                                                                 \n",
      " batch_normalization (Batch  (None, 29, 32)            128       \n",
      " Normalization)                                                  \n",
      "                                                                 \n",
      " dropout (Dropout)           (None, 29, 32)            0         \n",
      "                                                                 \n",
      " conv1d_1 (Conv1D)           (None, 28, 64)            4160      \n",
      "                                                                 \n",
      " batch_normalization_1 (Bat  (None, 28, 64)            256       \n",
      " chNormalization)                                                \n",
      "                                                                 \n",
      " dropout_1 (Dropout)         (None, 28, 64)            0         \n",
      "                                                                 \n",
      " flatten (Flatten)           (None, 1792)              0         \n",
      "                                                                 \n",
      " dense (Dense)               (None, 64)                114752    \n",
      "                                                                 \n",
      " dropout_2 (Dropout)         (None, 64)                0         \n",
      "                                                                 \n",
      " dense_1 (Dense)             (None, 1)                 65        \n",
      "                                                                 \n",
      "=================================================================\n",
      "Total params: 119457 (466.63 KB)\n",
      "Trainable params: 119265 (465.88 KB)\n",
      "Non-trainable params: 192 (768.00 Byte)\n",
      "_________________________________________________________________\n"
     ]
    }
   ],
   "source": [
    "model.summary()"
   ]
  },
  {
   "cell_type": "code",
   "execution_count": 45,
   "id": "8d120c61",
   "metadata": {},
   "outputs": [],
   "source": [
    "from tensorflow.keras.optimizers import Adam"
   ]
  },
  {
   "cell_type": "code",
   "execution_count": 46,
   "id": "163af12a",
   "metadata": {},
   "outputs": [
    {
     "name": "stderr",
     "output_type": "stream",
     "text": [
      "WARNING:absl:`lr` is deprecated in Keras optimizer, please use `learning_rate` or use the legacy optimizer, e.g.,tf.keras.optimizers.legacy.Adam.\n"
     ]
    }
   ],
   "source": [
    "model.compile(optimizer = Adam(lr = 0.0001), loss = 'binary_crossentropy' , metrics=['accuracy'])"
   ]
  },
  {
   "cell_type": "code",
   "execution_count": 47,
   "id": "3f66f29c",
   "metadata": {},
   "outputs": [
    {
     "name": "stdout",
     "output_type": "stream",
     "text": [
      "Epoch 1/20\n",
      "25/25 [==============================] - 5s 35ms/step - loss: 0.4443 - accuracy: 0.8539 - val_loss: 0.5257 - val_accuracy: 0.8528\n",
      "Epoch 2/20\n",
      "25/25 [==============================] - 0s 11ms/step - loss: 0.1998 - accuracy: 0.9327 - val_loss: 0.5043 - val_accuracy: 0.5787\n",
      "Epoch 3/20\n",
      "25/25 [==============================] - 0s 11ms/step - loss: 0.1878 - accuracy: 0.9403 - val_loss: 0.4789 - val_accuracy: 0.5888\n",
      "Epoch 4/20\n",
      "25/25 [==============================] - 0s 12ms/step - loss: 0.1648 - accuracy: 0.9416 - val_loss: 0.4680 - val_accuracy: 0.6041\n",
      "Epoch 5/20\n",
      "25/25 [==============================] - 0s 12ms/step - loss: 0.1791 - accuracy: 0.9428 - val_loss: 0.4280 - val_accuracy: 0.7259\n",
      "Epoch 6/20\n",
      "25/25 [==============================] - 0s 12ms/step - loss: 0.1687 - accuracy: 0.9441 - val_loss: 0.4221 - val_accuracy: 0.7208\n",
      "Epoch 7/20\n",
      "25/25 [==============================] - 1s 23ms/step - loss: 0.1702 - accuracy: 0.9428 - val_loss: 0.3452 - val_accuracy: 0.8985\n",
      "Epoch 8/20\n",
      "25/25 [==============================] - 1s 20ms/step - loss: 0.1780 - accuracy: 0.9377 - val_loss: 0.3338 - val_accuracy: 0.8629\n",
      "Epoch 9/20\n",
      "25/25 [==============================] - 0s 14ms/step - loss: 0.1303 - accuracy: 0.9517 - val_loss: 0.3288 - val_accuracy: 0.8477\n",
      "Epoch 10/20\n",
      "25/25 [==============================] - 0s 12ms/step - loss: 0.1389 - accuracy: 0.9581 - val_loss: 0.3363 - val_accuracy: 0.8477\n",
      "Epoch 11/20\n",
      "25/25 [==============================] - 0s 12ms/step - loss: 0.1144 - accuracy: 0.9593 - val_loss: 0.2731 - val_accuracy: 0.8832\n",
      "Epoch 12/20\n",
      "25/25 [==============================] - 0s 17ms/step - loss: 0.1321 - accuracy: 0.9568 - val_loss: 0.2959 - val_accuracy: 0.8731\n",
      "Epoch 13/20\n",
      "25/25 [==============================] - 0s 17ms/step - loss: 0.1126 - accuracy: 0.9530 - val_loss: 0.2378 - val_accuracy: 0.8985\n",
      "Epoch 14/20\n",
      "25/25 [==============================] - 0s 12ms/step - loss: 0.1129 - accuracy: 0.9606 - val_loss: 0.2201 - val_accuracy: 0.9188\n",
      "Epoch 15/20\n",
      "25/25 [==============================] - 0s 17ms/step - loss: 0.1138 - accuracy: 0.9543 - val_loss: 0.2075 - val_accuracy: 0.9188\n",
      "Epoch 16/20\n",
      "25/25 [==============================] - 0s 15ms/step - loss: 0.1115 - accuracy: 0.9619 - val_loss: 0.1915 - val_accuracy: 0.9188\n",
      "Epoch 17/20\n",
      "25/25 [==============================] - 0s 19ms/step - loss: 0.1170 - accuracy: 0.9568 - val_loss: 0.1798 - val_accuracy: 0.9289\n",
      "Epoch 18/20\n",
      "25/25 [==============================] - 0s 15ms/step - loss: 0.1175 - accuracy: 0.9581 - val_loss: 0.1830 - val_accuracy: 0.9239\n",
      "Epoch 19/20\n",
      "25/25 [==============================] - 0s 13ms/step - loss: 0.0937 - accuracy: 0.9606 - val_loss: 0.1759 - val_accuracy: 0.9188\n",
      "Epoch 20/20\n",
      "25/25 [==============================] - 0s 17ms/step - loss: 0.0955 - accuracy: 0.9632 - val_loss: 0.1766 - val_accuracy: 0.9289\n"
     ]
    }
   ],
   "source": [
    "history = model.fit(x_train , y_train , epochs = epochs , validation_data = (x_test , y_test) , verbose = 1)"
   ]
  },
  {
   "cell_type": "code",
   "execution_count": null,
   "id": "8a610bf6",
   "metadata": {},
   "outputs": [],
   "source": []
  },
  {
   "cell_type": "code",
   "execution_count": 52,
   "id": "a96931d3",
   "metadata": {},
   "outputs": [],
   "source": [
    "def plot_lr(history , epochs):\n",
    "    epoch_range = range(1,epochs+1)\n",
    "    plt.plot(epoch_range, history.history['accuracy'])\n",
    "    plt.plot(epoch_range, history.history['val_accuracy'])\n",
    "    plt.title('Model Accuracy')\n",
    "    plt.ylabel('Accuracy')\n",
    "    plt.xlabel('Epoch')\n",
    "    plt.legend(['train','val'] , loc = 'upper left')\n",
    "    plt.show()\n",
    "    \n",
    "    plt.plot(epoch_range, history.history['loss'])\n",
    "    plt.plot(epoch_range, history.history['val_loss'])\n",
    "    plt.title('Model Loss')\n",
    "    plt.ylabel('Los')\n",
    "    plt.xlabel('Epoch')\n",
    "    plt.legend(['train','val'] , loc = 'upper left')\n",
    "    plt.show()"
   ]
  },
  {
   "cell_type": "code",
   "execution_count": 53,
   "id": "bf528e8c",
   "metadata": {},
   "outputs": [
    {
     "data": {
      "image/png": "[encoded data removed]",
      "text/plain": [
       "<Figure size 640x480 with 1 Axes>"
      ]
     },
     "metadata": {},
     "output_type": "display_data"
    },
    {
     "data": {
      "image/png": "[encoded data removed]",
      "text/plain": [
       "<Figure size 640x480 with 1 Axes>"
      ]
     },
     "metadata": {},
     "output_type": "display_data"
    }
   ],
   "source": [
    "plot_lr(history , epochs)"
   ]
  },
  {
   "cell_type": "code",
   "execution_count": null,
   "id": "64cf300a",
   "metadata": {},
   "outputs": [],
   "source": []
  },
  {
   "cell_type": "code",
   "execution_count": null,
   "id": "2d0c8fc0",
   "metadata": {},
   "outputs": [],
   "source": []
  },
  {
   "cell_type": "code",
   "execution_count": 56,
   "id": "b3344528",
   "metadata": {},
   "outputs": [
    {
     "name": "stderr",
     "output_type": "stream",
     "text": [
      "WARNING:absl:`lr` is deprecated in Keras optimizer, please use `learning_rate` or use the legacy optimizer, e.g.,tf.keras.optimizers.legacy.Adam.\n"
     ]
    },
    {
     "name": "stdout",
     "output_type": "stream",
     "text": [
      "Epoch 1/50\n",
      "25/25 [==============================] - 1s 11ms/step - loss: 0.9573 - accuracy: 0.6823 - val_loss: 0.5650 - val_accuracy: 0.7716\n",
      "Epoch 2/50\n",
      "25/25 [==============================] - 0s 5ms/step - loss: 0.4073 - accuracy: 0.8310 - val_loss: 0.5099 - val_accuracy: 0.8477\n",
      "Epoch 3/50\n",
      "25/25 [==============================] - 0s 5ms/step - loss: 0.3002 - accuracy: 0.8844 - val_loss: 0.4717 - val_accuracy: 0.8477\n",
      "Epoch 4/50\n",
      "25/25 [==============================] - 0s 5ms/step - loss: 0.2555 - accuracy: 0.9161 - val_loss: 0.4319 - val_accuracy: 0.8376\n",
      "Epoch 5/50\n",
      "25/25 [==============================] - 0s 5ms/step - loss: 0.2696 - accuracy: 0.9098 - val_loss: 0.4060 - val_accuracy: 0.8274\n",
      "Epoch 6/50\n",
      "25/25 [==============================] - 0s 5ms/step - loss: 0.2368 - accuracy: 0.9123 - val_loss: 0.3771 - val_accuracy: 0.8426\n",
      "Epoch 7/50\n",
      "25/25 [==============================] - 0s 5ms/step - loss: 0.2218 - accuracy: 0.9136 - val_loss: 0.3457 - val_accuracy: 0.8426\n",
      "Epoch 8/50\n",
      "25/25 [==============================] - 0s 5ms/step - loss: 0.2127 - accuracy: 0.9187 - val_loss: 0.3157 - val_accuracy: 0.8629\n",
      "Epoch 9/50\n",
      "25/25 [==============================] - 0s 5ms/step - loss: 0.2217 - accuracy: 0.9263 - val_loss: 0.2890 - val_accuracy: 0.8782\n",
      "Epoch 10/50\n",
      "25/25 [==============================] - 0s 5ms/step - loss: 0.2134 - accuracy: 0.9288 - val_loss: 0.2683 - val_accuracy: 0.8985\n",
      "Epoch 11/50\n",
      "25/25 [==============================] - 0s 5ms/step - loss: 0.2021 - accuracy: 0.9327 - val_loss: 0.2490 - val_accuracy: 0.9137\n",
      "Epoch 12/50\n",
      "25/25 [==============================] - 0s 5ms/step - loss: 0.1713 - accuracy: 0.9428 - val_loss: 0.2347 - val_accuracy: 0.9086\n",
      "Epoch 13/50\n",
      "25/25 [==============================] - 0s 5ms/step - loss: 0.1727 - accuracy: 0.9390 - val_loss: 0.2283 - val_accuracy: 0.9137\n",
      "Epoch 14/50\n",
      "25/25 [==============================] - 0s 4ms/step - loss: 0.2008 - accuracy: 0.9212 - val_loss: 0.2143 - val_accuracy: 0.9137\n",
      "Epoch 15/50\n",
      "25/25 [==============================] - 0s 5ms/step - loss: 0.1682 - accuracy: 0.9416 - val_loss: 0.2169 - val_accuracy: 0.9137\n",
      "Epoch 16/50\n",
      "25/25 [==============================] - 0s 5ms/step - loss: 0.1874 - accuracy: 0.9339 - val_loss: 0.2086 - val_accuracy: 0.9137\n",
      "Epoch 17/50\n",
      "25/25 [==============================] - 0s 5ms/step - loss: 0.1589 - accuracy: 0.9428 - val_loss: 0.2088 - val_accuracy: 0.9137\n",
      "Epoch 18/50\n",
      "25/25 [==============================] - 0s 5ms/step - loss: 0.1943 - accuracy: 0.9327 - val_loss: 0.2077 - val_accuracy: 0.9137\n",
      "Epoch 19/50\n",
      "25/25 [==============================] - 0s 6ms/step - loss: 0.1731 - accuracy: 0.9441 - val_loss: 0.1975 - val_accuracy: 0.9188\n",
      "Epoch 20/50\n",
      "25/25 [==============================] - 0s 7ms/step - loss: 0.1646 - accuracy: 0.9365 - val_loss: 0.1949 - val_accuracy: 0.9188\n",
      "Epoch 21/50\n",
      "25/25 [==============================] - 0s 6ms/step - loss: 0.1548 - accuracy: 0.9403 - val_loss: 0.2003 - val_accuracy: 0.9188\n",
      "Epoch 22/50\n",
      "25/25 [==============================] - 0s 6ms/step - loss: 0.1541 - accuracy: 0.9390 - val_loss: 0.1977 - val_accuracy: 0.9188\n",
      "Epoch 23/50\n",
      "25/25 [==============================] - 0s 7ms/step - loss: 0.1603 - accuracy: 0.9403 - val_loss: 0.1895 - val_accuracy: 0.9188\n",
      "Epoch 24/50\n",
      "25/25 [==============================] - 0s 5ms/step - loss: 0.1671 - accuracy: 0.9365 - val_loss: 0.1894 - val_accuracy: 0.9188\n",
      "Epoch 25/50\n",
      "25/25 [==============================] - 0s 5ms/step - loss: 0.1444 - accuracy: 0.9441 - val_loss: 0.1865 - val_accuracy: 0.9188\n",
      "Epoch 26/50\n",
      "25/25 [==============================] - 0s 6ms/step - loss: 0.1496 - accuracy: 0.9466 - val_loss: 0.1931 - val_accuracy: 0.9239\n",
      "Epoch 27/50\n",
      "25/25 [==============================] - 0s 6ms/step - loss: 0.1361 - accuracy: 0.9504 - val_loss: 0.1887 - val_accuracy: 0.9239\n",
      "Epoch 28/50\n",
      "25/25 [==============================] - 0s 7ms/step - loss: 0.1512 - accuracy: 0.9466 - val_loss: 0.1914 - val_accuracy: 0.9239\n",
      "Epoch 29/50\n",
      "25/25 [==============================] - 0s 6ms/step - loss: 0.1395 - accuracy: 0.9479 - val_loss: 0.1862 - val_accuracy: 0.9239\n",
      "Epoch 30/50\n",
      "25/25 [==============================] - 0s 5ms/step - loss: 0.1553 - accuracy: 0.9530 - val_loss: 0.1944 - val_accuracy: 0.9188\n",
      "Epoch 31/50\n",
      "25/25 [==============================] - 0s 5ms/step - loss: 0.1408 - accuracy: 0.9479 - val_loss: 0.1868 - val_accuracy: 0.9239\n",
      "Epoch 32/50\n",
      "25/25 [==============================] - 0s 6ms/step - loss: 0.1475 - accuracy: 0.9403 - val_loss: 0.1885 - val_accuracy: 0.9188\n",
      "Epoch 33/50\n",
      "25/25 [==============================] - 0s 6ms/step - loss: 0.1475 - accuracy: 0.9466 - val_loss: 0.1904 - val_accuracy: 0.9188\n",
      "Epoch 34/50\n",
      "25/25 [==============================] - 0s 6ms/step - loss: 0.1378 - accuracy: 0.9479 - val_loss: 0.1904 - val_accuracy: 0.9188\n",
      "Epoch 35/50\n",
      "25/25 [==============================] - 0s 6ms/step - loss: 0.1376 - accuracy: 0.9492 - val_loss: 0.1924 - val_accuracy: 0.9188\n",
      "Epoch 36/50\n",
      "25/25 [==============================] - 0s 6ms/step - loss: 0.1358 - accuracy: 0.9517 - val_loss: 0.1894 - val_accuracy: 0.9188\n",
      "Epoch 37/50\n",
      "25/25 [==============================] - 0s 6ms/step - loss: 0.1376 - accuracy: 0.9530 - val_loss: 0.1895 - val_accuracy: 0.9188\n",
      "Epoch 38/50\n",
      "25/25 [==============================] - 0s 6ms/step - loss: 0.1179 - accuracy: 0.9555 - val_loss: 0.1949 - val_accuracy: 0.9289\n",
      "Epoch 39/50\n",
      "25/25 [==============================] - 0s 6ms/step - loss: 0.1400 - accuracy: 0.9530 - val_loss: 0.1890 - val_accuracy: 0.9239\n",
      "Epoch 40/50\n",
      "25/25 [==============================] - 0s 6ms/step - loss: 0.1369 - accuracy: 0.9454 - val_loss: 0.1914 - val_accuracy: 0.9289\n",
      "Epoch 41/50\n",
      "25/25 [==============================] - 0s 6ms/step - loss: 0.1300 - accuracy: 0.9530 - val_loss: 0.1925 - val_accuracy: 0.9289\n",
      "Epoch 42/50\n",
      "25/25 [==============================] - 0s 7ms/step - loss: 0.1230 - accuracy: 0.9517 - val_loss: 0.1901 - val_accuracy: 0.9188\n",
      "Epoch 43/50\n",
      "25/25 [==============================] - 0s 7ms/step - loss: 0.1324 - accuracy: 0.9479 - val_loss: 0.1970 - val_accuracy: 0.9188\n",
      "Epoch 44/50\n",
      "25/25 [==============================] - 0s 6ms/step - loss: 0.1132 - accuracy: 0.9555 - val_loss: 0.1969 - val_accuracy: 0.9188\n",
      "Epoch 45/50\n",
      "25/25 [==============================] - 0s 6ms/step - loss: 0.1252 - accuracy: 0.9517 - val_loss: 0.1977 - val_accuracy: 0.9188\n",
      "Epoch 46/50\n",
      "25/25 [==============================] - 0s 7ms/step - loss: 0.1426 - accuracy: 0.9466 - val_loss: 0.1939 - val_accuracy: 0.9239\n",
      "Epoch 47/50\n",
      "25/25 [==============================] - 0s 6ms/step - loss: 0.1035 - accuracy: 0.9606 - val_loss: 0.1964 - val_accuracy: 0.9239\n",
      "Epoch 48/50\n",
      "25/25 [==============================] - 0s 6ms/step - loss: 0.1037 - accuracy: 0.9619 - val_loss: 0.1946 - val_accuracy: 0.9239\n",
      "Epoch 49/50\n",
      "25/25 [==============================] - 0s 6ms/step - loss: 0.1226 - accuracy: 0.9644 - val_loss: 0.1996 - val_accuracy: 0.9188\n",
      "Epoch 50/50\n",
      "25/25 [==============================] - 0s 6ms/step - loss: 0.1306 - accuracy: 0.9517 - val_loss: 0.2029 - val_accuracy: 0.9239\n"
     ]
    },
    {
     "data": {
      "image/png": "[encoded data removed]",
      "text/plain": [
       "<Figure size 640x480 with 1 Axes>"
      ]
     },
     "metadata": {},
     "output_type": "display_data"
    },
    {
     "data": {
      "image/png": "[encoded data removed]",
      "text/plain": [
       "<Figure size 640x480 with 1 Axes>"
      ]
     },
     "metadata": {},
     "output_type": "display_data"
    }
   ],
   "source": [
    "epochs = 50\n",
    "model = Sequential()\n",
    "model.add(Conv1D(32,2,activation='relu', input_shape = x_train[0].shape))\n",
    "model.add(BatchNormalization())\n",
    "model.add(MaxPool1D(2))\n",
    "model.add(Dropout(0.2))\n",
    "\n",
    "model.add(Conv1D(64,2,activation='relu'))\n",
    "model.add(BatchNormalization())\n",
    "model.add(MaxPool1D(2))\n",
    "model.add(Dropout(0.5))\n",
    "\n",
    "model.add(Flatten())\n",
    "model.add(Dense(64, activation = 'relu'))\n",
    "model.add(Dropout(0.5))\n",
    "\n",
    "model.add(Dense(1,activation = 'sigmoid'))\n",
    "\n",
    "\n",
    "model.compile(optimizer = Adam(lr = 0.0001), loss = 'binary_crossentropy' , metrics=['accuracy'])\n",
    "history = model.fit(x_train , y_train , epochs = epochs , validation_data = (x_test , y_test) , verbose = 1)\n",
    "plot_lr(history,epochs)"
   ]
  },
  {
   "cell_type": "code",
   "execution_count": null,
   "id": "5d8ebd59",
   "metadata": {},
   "outputs": [],
   "source": [
    "    "
   ]
  },
  {
   "cell_type": "code",
   "execution_count": 83,
   "id": "60a98066",
   "metadata": {},
   "outputs": [
    {
     "name": "stdout",
     "output_type": "stream",
     "text": [
      "25/25 [==============================] - 0s 4ms/step - loss: 0.1175 - accuracy: 0.9632\n",
      "7/7 [==============================] - 0s 1ms/step\n"
     ]
    }
   ],
   "source": [
    "model.fit(x_train, y_train)\n",
    "y_pred = model.predict(x_test)\n",
    "y_prob = np.argmax(x_test, axis=1)"
   ]
  },
  {
   "cell_type": "code",
   "execution_count": 84,
   "id": "4949d0b7",
   "metadata": {},
   "outputs": [
    {
     "data": {
      "image/png": "[encoded data removed]",
      "text/plain": [
       "<Figure size 800x600 with 1 Axes>"
      ]
     },
     "metadata": {},
     "output_type": "display_data"
    }
   ],
   "source": [
    "from sklearn.metrics import roc_curve, roc_auc_score, auc\n",
    "\n",
    "# Calculate ROC curve\n",
    "fpr, tpr, thresholds = roc_curve(y_test, y_prob)\n",
    "# Calculate AUC (Area Under the Curve)\n",
    "roc_auc = auc(fpr, tpr)\n",
    "# Plot ROC curve\n",
    "plt.figure(figsize=(8, 6))\n",
    "plt.plot(fpr, tpr, color='darkorange', lw=2, label=f'ROC curve (AUC = {roc_auc:.2f})')\n",
    "plt.plot([0, 1], [0, 1], color='navy', lw=2, linestyle='--')\n",
    "plt.xlim([0.0, 1.0])\n",
    "plt.ylim([0.0, 1.05])\n",
    "plt.xlabel('False Positive Rate')\n",
    "plt.ylabel('True Positive Rate')\n",
    "plt.title('Receiver Operating Characteristic (ROC) Curve')\n",
    "plt.legend(loc='lower right')\n",
    "plt.show()"
   ]
  },
  {
   "cell_type": "code",
   "execution_count": null,
   "id": "b9d19438",
   "metadata": {},
   "outputs": [],
   "source": []
  },
  {
   "cell_type": "code",
   "execution_count": 85,
   "id": "f0f8c82c",
   "metadata": {},
   "outputs": [
    {
     "data": {
      "image/png": "[encoded data removed]",
      "text/plain": [
       "<Figure size 800x600 with 1 Axes>"
      ]
     },
     "metadata": {},
     "output_type": "display_data"
    }
   ],
   "source": [
    "from sklearn.metrics import precision_recall_curve, average_precision_score\n",
    "\n",
    "# Calculate Precision-Recall curve\n",
    "precision, recall, thresholds = precision_recall_curve(y_test, y_prob)\n",
    "# Calculate Average Precision (AP)\n",
    "average_precision = average_precision_score(y_test, y_prob)\n",
    "# Plot Precision-Recall curve\n",
    "plt.figure(figsize=(8, 6))\n",
    "plt.plot(recall, precision, color='darkorange', lw=2, label=f'Precision-Recall curve (AP = {average_precision:.2f})')\n",
    "plt.xlabel('Recall')\n",
    "plt.ylabel('Precision')\n",
    "plt.title('Precision-Recall Curve')\n",
    "plt.legend(loc='best')\n",
    "plt.show()"
   ]
  },
  {
   "cell_type": "code",
   "execution_count": null,
   "id": "28b7c61c",
   "metadata": {},
   "outputs": [],
   "source": []
  },
  {
   "cell_type": "code",
   "execution_count": 75,
   "id": "f2ca814d",
   "metadata": {},
   "outputs": [
    {
     "name": "stdout",
     "output_type": "stream",
     "text": [
      "7/7 [==============================] - 0s 1ms/step\n"
     ]
    },
    {
     "data": {
      "image/png": "[encoded data removed]",
      "text/plain": [
       "<Figure size 640x480 with 1 Axes>"
      ]
     },
     "metadata": {},
     "output_type": "display_data"
    }
   ],
   "source": [
    "from sklearn.metrics import confusion_matrix\n",
    "model_predictions = (model.predict(x_test) > 0.5).astype(\"int32\")\n",
    "confusion_matrix = confusion_matrix(y_test, model_predictions)\n",
    "sns.heatmap(confusion_matrix, annot=True, fmt=\"d\", cbar = False)\n",
    "plt.title(\"CNN Confusion Matrix\")\n",
    "plt.show()"
   ]
  },
  {
   "cell_type": "code",
   "execution_count": 77,
   "id": "04d8953c",
   "metadata": {},
   "outputs": [
    {
     "data": {
      "text/plain": [
       "0.9289340101522843"
      ]
     },
     "execution_count": 77,
     "metadata": {},
     "output_type": "execute_result"
    }
   ],
   "source": [
    "from sklearn.metrics import accuracy_score\n",
    "accuracy_score(y_test, model_predictions)"
   ]
  },
  {
   "cell_type": "code",
   "execution_count": 79,
   "id": "2cad58c3",
   "metadata": {},
   "outputs": [
    {
     "name": "stdout",
     "output_type": "stream",
     "text": [
      "precision: [0.9047619  0.95652174]\n",
      "recall: [0.95959596 0.89795918]\n",
      "fscore: [0.93137255 0.92631579]\n",
      "support: [99 98]\n"
     ]
    }
   ],
   "source": [
    "from sklearn.metrics import precision_recall_fscore_support as score\n",
    "precision, recall, fscore, support = score(y_test, model_predictions)\n",
    "print('precision: {}'.format(precision))\n",
    "print('recall: {}'.format(recall))\n",
    "print('fscore: {}'.format(fscore))\n",
    "print('support: {}'.format(support))"
   ]
  },
  {
   "cell_type": "code",
   "execution_count": null,
   "id": "71be7ce0",
   "metadata": {},
   "outputs": [],
   "source": []
  }
 ],
 "metadata": {
  "kernelspec": {
   "display_name": "Python 3 (ipykernel)",
   "language": "python",
   "name": "python3"
  },
  "language_info": {
   "codemirror_mode": {
    "name": "ipython",
    "version": 3
   },
   "file_extension": ".py",
   "mimetype": "text/x-python",
   "name": "python",
   "nbconvert_exporter": "python",
   "pygments_lexer": "ipython3",
   "version": "3.11.3"
  }
 },
 "nbformat": 4,
 "nbformat_minor": 5
}
